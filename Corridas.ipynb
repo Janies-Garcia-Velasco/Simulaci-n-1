{
  "nbformat": 4,
  "nbformat_minor": 0,
  "metadata": {
    "colab": {
      "provenance": [],
      "authorship_tag": "ABX9TyPeH4nZvTuq2F6EHs98AcXF",
      "include_colab_link": true
    },
    "kernelspec": {
      "name": "python3",
      "display_name": "Python 3"
    },
    "language_info": {
      "name": "python"
    }
  },
  "cells": [
    {
      "cell_type": "markdown",
      "metadata": {
        "id": "view-in-github",
        "colab_type": "text"
      },
      "source": [
        "<a href=\"https://colab.research.google.com/github/Janies-Garcia-Velasco/Simulaci-n-1/blob/main/Corridas.ipynb\" target=\"_parent\"><img src=\"https://colab.research.google.com/assets/colab-badge.svg\" alt=\"Open In Colab\"/></a>"
      ]
    },
    {
      "cell_type": "code",
      "execution_count": 122,
      "metadata": {
        "colab": {
          "base_uri": "https://localhost:8080/"
        },
        "id": "_iwgRnro8xwp",
        "outputId": "1bf80e65-8f06-4f64-9584-fef7d53e1fa1"
      },
      "outputs": [
        {
          "output_type": "stream",
          "name": "stdout",
          "text": [
            "xi:  [0.048, 0.591, 0.478, 0.166, 0.932, 0.926, 0.007, 0.551, 0.362, 0.533, 0.368, 0.437, 0.178, 0.411, 0.545, 0.787, 0.594, 0.086, 0.951, 0.772, 0.298, 0.199, 0.157, 0.401, 0.631]\n",
            "s:  [1, 0, 0, 1, 0, 0, 1, 0, 1, 0, 1, 0, 1, 1, 1, 0, 0, 1, 0, 0, 0, 0, 1, 1]\n",
            "corrida: 15\n",
            "longitud:  [1, 2, 1, 2, 1, 1, 1, 1, 1, 1, 3, 2, 1, 4, 2]\n"
          ]
        }
      ],
      "source": [
        "num_muestra=openpyxl.load_workbook(\"muestra3.xlsx\")#se manda a llamar al excel para leerlo desde los archivos de github\n",
        "muestra=num_muestra.active\n",
        "\n",
        "lista=[]\n",
        "lista1=[]\n",
        "lista0=[]\n",
        "listas=[]\n",
        "n=1\n",
        "\n",
        "for row in range(0,muestra.max_row):#leer las filas del excel\n",
        "  for col in muestra.iter_cols(1, muestra.max_column):#leer columna de excel\n",
        "\n",
        "    xi=(col[row].value)#darle valor a la x con la celda leida\n",
        "    lista.append(xi)\n",
        "\n",
        "print(\"xi: \",lista)\n",
        "\n",
        "while n<len(lista):\n",
        "  m=lista[n-1]\n",
        "  m1=lista[n]\n",
        "\n",
        "  if m<m1:\n",
        "    lista1.append(1)\n",
        "    listas.append(1)\n",
        "\n",
        "  elif m>m1:\n",
        "    lista0.append(0)\n",
        "    listas.append(0)\n",
        "\n",
        "  n+=1\n",
        "\n",
        "print(\"s: \", listas)\n",
        "\n",
        "#programa para las corridas\n",
        "simulacion=len(listas)#cantidad de dato0s obtenidos\n",
        "m=0\n",
        "list_a=[]\n",
        "list_b=[]\n",
        "longitud=[]\n",
        "\n",
        "#print(\"digito inicial=\",a)\n",
        "s=[]\n",
        "while m<simulacion:\n",
        "  if len(listas)>0:\n",
        "    list_a1=[]\n",
        "    list_b1=[]\n",
        "\n",
        "    a=listas[0]\n",
        "    while a==1 and len(listas)>0:\n",
        "      list_a.append(1)\n",
        "      list_a1.append(1)\n",
        "\n",
        "      if len(listas)>0:\n",
        "        listas.pop(0)\n",
        "\n",
        "        if len(listas)>0:\n",
        "          a=listas[0]\n",
        "\n",
        "    a1=len(list_a1)\n",
        "\n",
        "    while a==0:\n",
        "      list_b.append(0)\n",
        "      list_b1.append(0)\n",
        "\n",
        "      if len(listas)>0:\n",
        "        listas.pop(0)\n",
        "\n",
        "        if len(listas)>0:\n",
        "          a=listas[0]\n",
        "\n",
        "    b1=len(list_b1)\n",
        "\n",
        "    longitud.append(a1)\n",
        "    longitud.append(b1)\n",
        "\n",
        "  m+=1\n",
        "\n",
        "corrida=len(longitud)-1\n",
        "print(\"corrida:\", corrida)\n",
        "longitud.pop()\n",
        "print(\"longitud: \", longitud)\n",
        "\n",
        "\n"
      ]
    },
    {
      "cell_type": "code",
      "source": [
        "xi1=len(lista)\n",
        "\n",
        "media=(2*(xi1)-1)/3\n",
        "print(\"Media=\", media)\n",
        "\n",
        "var=(16*(xi1)-29)/90\n",
        "print(\"Varianza=\", var)\n",
        "\n",
        "desv=sqrt(var)\n",
        "print(\"Desviacion estandar=\", desv)\n",
        "\n",
        "z0=(corrida-media)/(desv)\n",
        "print(\"Z_0=\", round(z0,4))\n",
        "\n",
        "#el intervalo de aceptacion\n",
        "\n",
        "print(\"ya que el intervalo de aceptacion es de 0.05\")\n",
        "\n",
        "zn=-1.96\n",
        "z=1.96\n",
        "\n",
        "if  zn < z0 < z:\n",
        "  print(\"la hipotesis se acepta\")\n",
        "\n",
        "\n"
      ],
      "metadata": {
        "colab": {
          "base_uri": "https://localhost:8080/"
        },
        "id": "roZ-eh7FsfXZ",
        "outputId": "457cb0bd-b622-411b-b6ef-76bc9bfeff78"
      },
      "execution_count": 121,
      "outputs": [
        {
          "output_type": "stream",
          "name": "stdout",
          "text": [
            "Media= 16.333333333333332\n",
            "Varianza= 4.122222222222222\n",
            "Desviacion estandar= 2.030325644378808\n",
            "Z_0= -0.6567\n",
            "ya que el intervalo de aceptacion es de 0.05\n",
            "la hipotesis se acepta\n"
          ]
        }
      ]
    }
  ]
}