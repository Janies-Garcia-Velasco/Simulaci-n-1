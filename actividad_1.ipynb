{
  "nbformat": 4,
  "nbformat_minor": 0,
  "metadata": {
    "colab": {
      "provenance": []
    },
    "kernelspec": {
      "name": "python3",
      "display_name": "Python 3"
    },
    "language_info": {
      "name": "python"
    }
  },
  "cells": [
    {
      "cell_type": "code",
      "source": [
        "import sys\n",
        "import tabulate\n",
        "#pedir semilla\n",
        "x=int(input(\"escriba un numero entero de 4 digitos: \"))\n",
        "m=int(input(\"numero de iteraciones: \")) #numero de iteraciones\n",
        "resultados=[]         #creacion de lista para tabular\n",
        "n=1                   #para bucle\n",
        "while n<m+1:          #el bucle se repetira el numero de iteraciones\n",
        "  num=str(x)          #convertir semilla a cadena\n",
        "  if len(num)==4:     #la semilla debe tener 4 digitos\n",
        "    x1=x**2               #se eleva al cuadrado\n",
        "    num1=str(x1)          #se cinvierte a cadena\n",
        "    numero=list(num1)     #se convierte en lista\n",
        "    if len(numero)==8:    #el nuevo numero debe tener 8 digitos\n",
        "      xlist=numero[2:6]       #extraer los numero medios\n",
        "      numfin=int(\"\".join(xlist))    #pasar a numero entero\n",
        "      #almacenar resultados en una lista, para la tabla\n",
        "      resultados.append([n,x,x1,numfin])\n",
        "      x=numfin            #ahora el numero medio va a pasar a tomar el lugar de la semilla\n",
        "      n=n+1               #para que el bucle tenga fin\n",
        "    else:\n",
        "      xlist=numero[1:5]   #en caso de tener menos de 8 digitos se toma un intervalo diferente de numeros\n",
        "      numfin=int(\"\".join(xlist))    #pasar a numero, ya que era cadena\n",
        "      #almacenar resultados en una lista, para la tabla\n",
        "      resultados.append([n,x,x1,numfin])\n",
        "      x=numfin            #el numero toma el lugar de la semilla\n",
        "      n=n+1               #para que el bucle tenga fin\n",
        "  else:\n",
        "    print(\"el numero ingresado no tiene los digitos solicitados\")\n",
        "    n=m+1\n",
        "#para imprimir tabla\n",
        "tabla=[\"N\",\"Xn\",\"Digito al cuadrado\",\"producto medio\"]\n",
        "print(tabulate.tabulate(resultados, headers=tabla, tablefmt=\"grid\"))\n"
      ],
      "metadata": {
        "id": "fBFvna-1wFA2"
      },
      "execution_count": null,
      "outputs": []
    }
  ]
}