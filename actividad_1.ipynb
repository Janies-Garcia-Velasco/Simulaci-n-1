{
 "cells": [
  {
   "cell_type": "markdown",
   "metadata": {
    "colab_type": "text",
    "id": "view-in-github"
   },
   "source": [
    "<a href=\"https://colab.research.google.com/github/Janies-Garcia-Velasco/Simulaci-n-1/blob/main/actividad_1.ipynb\" target=\"_parent\"><img src=\"https://colab.research.google.com/assets/colab-badge.svg\" alt=\"Open In Colab\"/></a>"
   ]
  },
  {
   "cell_type": "code",
   "execution_count": 11,
   "metadata": {
    "colab": {
     "base_uri": "https://localhost:8080/"
    },
    "id": "fBFvna-1wFA2",
    "outputId": "ace2e741-0321-4ad5-a8e8-84b50f1c12d9"
   },
   "source": [
    "# este programa lo hizo Janis\n",
    "import sys\n",
    "import tabulate\n",
    "\n",
    "#pedir semilla\n",
    "x=int(input(\"escriba un numero entero de 4 digitos: \"))\n",
    "m=int(input(\"numero de iteraciones: \"))#numero de iteraciones\n",
    "resultados=[]#creacion de lista para tabular\n",
    "n=1#para bucle\n",
    "\n",
    "while n<m+1:#el bucle se repetira el numero de iteraciones\n",
    "  num=str(x)#convertir semilla a cadena\n",
    "  if len(num)==4:#la semilla debe tener 4 digitos\n",
    "    x1=x**2#se eleva al cuadrado\n",
    "    num1=str(x1)#se cinvierte a cadena\n",
    "    numero=list(num1)#se convierte en lista\n",
    "\n",
    "    if len(numero)==8:#el nuevo numero debe tener 8 digitos\n",
    "      xlist=numero[2:6]#extraer los numero medios\n",
    "      numfin=int(\"\".join(xlist))#pasar a numero entero\n",
    "\n",
    "\n",
    "      #almacenar resultados en una lista, para la tabla\n",
    "      resultados.append([n,x,x1,numfin])\n",
    "      x=numfin#ahora el numero medio va a pasar a tomar el lugar de la semilla\n",
    "      n=n+1#para que el bucle tenga fin\n",
    "    else:\n",
    "      xlist=numero[1:5]#en caso de tener menos de 8 digitos se toma un intervalo diferente de numeros\n",
    "      numfin=int(\"\".join(xlist))#pasar a numero, ya que era cadena\n",
    "\n",
    "      #almacenar resultados en una lista, para la tabla\n",
    "      resultados.append([n,x,x1,numfin])\n",
    "\n",
    "      x=numfin#el numero toma el lugar de la semilla\n",
    "      n=n+1#para que el bucle tenga fin\n",
    "\n",
    "  else:\n",
    "    print(\"el numero ingresado no tiene los digitos solicitados\")\n",
    "    n=m+1\n",
    "\n",
    "#para imprimir tabla\n",
    "tabla=[\"N\",\"Xn\",\"Digito al cuadrado\",\"producto medio\"]\n",
    "print(tabulate.tabulate(resultados, headers=tabla, tablefmt=\"grid\"))\n"
   ]
  }
 ],
 "metadata": {
  "colab": {
   "authorship_tag": "ABX9TyNcphg0w/ykiLfRWKonoscC",
   "include_colab_link": true,
   "provenance": []
  },
  "kernelspec": {
   "display_name": "Python 3 (ipykernel)",
   "language": "python",
   "name": "python3"
  },
  "language_info": {
   "codemirror_mode": {
    "name": "ipython",
    "version": 3
   },
   "file_extension": ".py",
   "mimetype": "text/x-python",
   "name": "python",
   "nbconvert_exporter": "python",
   "pygments_lexer": "ipython3",
   "version": "3.10.12"
  }
 },
 "nbformat": 4,
 "nbformat_minor": 4
}
