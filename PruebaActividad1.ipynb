{
  "nbformat": 4,
  "nbformat_minor": 0,
  "metadata": {
    "colab": {
      "provenance": [],
      "authorship_tag": "ABX9TyM5An5oyZMPCxB8HtygV2NW",
      "include_colab_link": true
    },
    "kernelspec": {
      "name": "python3",
      "display_name": "Python 3"
    },
    "language_info": {
      "name": "python"
    }
  },
  "cells": [
    {
      "cell_type": "markdown",
      "metadata": {
        "id": "view-in-github",
        "colab_type": "text"
      },
      "source": [
        "<a href=\"https://colab.research.google.com/github/Janies-Garcia-Velasco/Simulaci-n-1/blob/main/PruebaActividad1.ipynb\" target=\"_parent\"><img src=\"https://colab.research.google.com/assets/colab-badge.svg\" alt=\"Open In Colab\"/></a>"
      ]
    },
    {
      "cell_type": "code",
      "source": [
        "import tabulate\n",
        "\n",
        "#pedir semilla\n",
        "x=int(input(\"escriba un numero entero de 4 digitos: \"))\n",
        "m=int(input(\"numero de iteraciones: \"))#numero de iteraciones\n",
        "resultados=[]#creacion de lista para tabular\n",
        "n=1#para bucle\n",
        "\n",
        "while n<m+1:#el bucle se repetira el numero de iteraciones\n",
        "  num=str(x)#convertir semilla a cadena\n",
        "  if len(num)==4:#la semilla debe tener 4 digitos\n",
        "    x1=x**2#se eleva al cuadrado\n",
        "    num1=str(x1)#se cinvierte a cadena\n",
        "    numero=list(num1)#se convierte en lista\n",
        "\n",
        "    if len(numero)==8:#el nuevo numero debe tener 8 digitos\n",
        "      xlist=numero[2:6]#extraer los numero medios\n",
        "      numfin=int(\"\".join(xlist))#pasar a numero entero\n",
        "      #almacenar resultados en una lista, para la tabla\n",
        "      resultados.append([n,x,x1,numfin])\n",
        "      x=numfin#ahora el numero medio va a pasar a tomar el lugar de la semilla\n",
        "      n=n+1#para que el bucle tenga fin\n",
        "    else:\n",
        "      xlist=numero[1:5]#en caso de tener menos de 8 digitos se toma un intervalo diferente de numeros\n",
        "      numfin=int(\"\".join(xlist))#pasar a numero, ya que era cadena\n",
        "\n",
        "      #almacenar resultados en una lista, para la tabla\n",
        "      resultados.append([n,x,x1,numfin])\n",
        "\n",
        "      x=numfin#el numero toma el lugar de la semilla\n",
        "      n=n+1#para que el bucle tenga fin\n",
        "\n",
        "  else:\n",
        "    print(\"el numero ingresado no tiene los digitos solicitados\")\n",
        "    n=10\n",
        "\n",
        "#para imprimir tabla\n",
        "tabla=[\"N\",\"Xn\",\"Digito al cuadrado\",\"producto medio\"]\n",
        "print(tabulate.tabulate(resultados, headers=tabla, tablefmt=\"grid\"))\n",
        "\n",
        "\n"
      ],
      "metadata": {
        "colab": {
          "base_uri": "https://localhost:8080/"
        },
        "id": "JvpoWw-gn9Oa",
        "outputId": "92ece7e3-915a-476a-b219-67ab0df946eb"
      },
      "execution_count": 2,
      "outputs": [
        {
          "output_type": "stream",
          "name": "stdout",
          "text": [
            "escriba un numero entero de 4 digitos: 5432\n",
            "numero de iteraciones: 3\n",
            "+-----+------+----------------------+------------------+\n",
            "|   N |   Xn |   Digito al cuadrado |   producto medio |\n",
            "+=====+======+======================+==================+\n",
            "|   1 | 5432 |             29506624 |             5066 |\n",
            "+-----+------+----------------------+------------------+\n",
            "|   2 | 5066 |             25664356 |             6643 |\n",
            "+-----+------+----------------------+------------------+\n",
            "|   3 | 6643 |             44129449 |             1294 |\n",
            "+-----+------+----------------------+------------------+\n"
          ]
        }
      ]
    },
    {
      "cell_type": "code",
      "execution_count": null,
      "metadata": {
        "id": "MgbO7b_0mMjb"
      },
      "outputs": [],
      "source": []
    }
  ]
}