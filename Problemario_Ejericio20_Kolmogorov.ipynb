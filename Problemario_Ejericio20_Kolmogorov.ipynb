{
  "nbformat": 4,
  "nbformat_minor": 0,
  "metadata": {
    "colab": {
      "provenance": [],
      "authorship_tag": "ABX9TyMOdIwy15iW3h1cIv+orlYk",
      "include_colab_link": true
    },
    "kernelspec": {
      "name": "python3",
      "display_name": "Python 3"
    },
    "language_info": {
      "name": "python"
    }
  },
  "cells": [
    {
      "cell_type": "markdown",
      "metadata": {
        "id": "view-in-github",
        "colab_type": "text"
      },
      "source": [
        "<a href=\"https://colab.research.google.com/github/Janies-Garcia-Velasco/Simulaci-n-1/blob/main/Problemario_Ejericio20_Kolmogorov.ipynb\" target=\"_parent\"><img src=\"https://colab.research.google.com/assets/colab-badge.svg\" alt=\"Open In Colab\"/></a>"
      ]
    },
    {
      "cell_type": "code",
      "execution_count": 25,
      "metadata": {
        "id": "lucD7YIlyS4J"
      },
      "outputs": [],
      "source": [
        "import numpy as np\n",
        "import openpyxl\n",
        "from tabulate import tabulate\n",
        "import tabulate\n",
        "import matplotlib.pyplot as plt"
      ]
    },
    {
      "cell_type": "code",
      "source": [
        "#creacion de la lista vacia\n",
        "lista=[]\n",
        "lista1=[]\n",
        "i=1\n",
        "list_mas_max = []\n",
        "list_menos_max=[]"
      ],
      "metadata": {
        "id": "r0AAfGp-ygzN"
      },
      "execution_count": 26,
      "outputs": []
    },
    {
      "cell_type": "code",
      "source": [
        "#permiso para entrar al archivo excel\n",
        "num_muestra=openpyxl.load_workbook(\"ejercicio 20 problemario.xlsx\")\n",
        "muestra=num_muestra.active"
      ],
      "metadata": {
        "id": "snZDoTySykpI"
      },
      "execution_count": 27,
      "outputs": []
    },
    {
      "cell_type": "code",
      "source": [
        "#ir columna por fila extrayendo los datos\n",
        "for row in range(1,muestra.max_row+1):\n",
        "  #ir por fila extrayendo datos\n",
        "  for col in muestra.iter_cols(1, muestra.max_column):\n",
        "    #guardando los datos en el x\n",
        "    x=col[row-1].value\n",
        "\n",
        "    #cambiar las comas por puntos para volve un decimal posible de calcular\n",
        "    if isinstance(x,str):\n",
        "      x=x.replace(\",\",\".\")\n",
        "    try:\n",
        "      x=float(x)\n",
        "    except ValueError:\n",
        "      continue\n",
        "\n",
        "    lista1.append(x)\n",
        "    lista.append(x/1000)"
      ],
      "metadata": {
        "id": "xOotdT-gyu-v"
      },
      "execution_count": 28,
      "outputs": []
    },
    {
      "cell_type": "code",
      "source": [
        "##lista ordenada\n",
        "lista.sort()"
      ],
      "metadata": {
        "id": "j7IZTpz2y1k6"
      },
      "execution_count": 29,
      "outputs": []
    },
    {
      "cell_type": "code",
      "source": [
        "#numero de datos en la lista\n",
        "n=len(lista)\n",
        "resultados=[]"
      ],
      "metadata": {
        "id": "enUqvqbgyzoR"
      },
      "execution_count": 30,
      "outputs": []
    },
    {
      "cell_type": "code",
      "source": [
        "#para hacer las operaciones de dmenos, dmas, sus absolutos y los maximos cada ciclo durante el bucle\n",
        "while i<=n:\n",
        "  xi = lista[i-1]\n",
        "  xin=round(i/n,4)\n",
        "  dmas=abs((round(i/n,2))-xi)\n",
        "  dmenos=abs(xi-round(((i-1)/n),2))\n",
        "  list_mas_max.append(dmas)\n",
        "  list_menos_max.append(dmenos)\n",
        "  resultados.append([i,xi,xin,dmas,dmenos])\n",
        "  i+=1"
      ],
      "metadata": {
        "id": "T5ZBezD4y6hj"
      },
      "execution_count": 31,
      "outputs": []
    },
    {
      "cell_type": "code",
      "source": [
        "#hacer tabla\n",
        "tabla=[\"i\",\"Xi\",\"i/n\",\"D+\",\"D-\"]\n",
        "print(tabulate.tabulate(resultados, headers=tabla, tablefmt=\"grid\"))"
      ],
      "metadata": {
        "colab": {
          "base_uri": "https://localhost:8080/"
        },
        "id": "MQZpQLwR0vli",
        "outputId": "58f4ad52-1b9e-44ce-fb28-accf0c8067cb"
      },
      "execution_count": 32,
      "outputs": [
        {
          "output_type": "stream",
          "name": "stdout",
          "text": [
            "+-----+--------+-------+--------+--------+\n",
            "|   i |     Xi |   i/n |     D+ |     D- |\n",
            "+=====+========+=======+========+========+\n",
            "|   1 | 0.1366 |  0.02 | 0.1166 | 0.1366 |\n",
            "+-----+--------+-------+--------+--------+\n",
            "|   2 | 0.1421 |  0.04 | 0.1021 | 0.1221 |\n",
            "+-----+--------+-------+--------+--------+\n",
            "|   3 | 0.1423 |  0.06 | 0.0823 | 0.1023 |\n",
            "+-----+--------+-------+--------+--------+\n",
            "|   4 | 0.1428 |  0.08 | 0.0628 | 0.0828 |\n",
            "+-----+--------+-------+--------+--------+\n",
            "|   5 | 0.1445 |  0.1  | 0.0445 | 0.0645 |\n",
            "+-----+--------+-------+--------+--------+\n",
            "|   6 | 0.1445 |  0.12 | 0.0245 | 0.0445 |\n",
            "+-----+--------+-------+--------+--------+\n",
            "|   7 | 0.1445 |  0.14 | 0.0045 | 0.0245 |\n",
            "+-----+--------+-------+--------+--------+\n",
            "|   8 | 0.1448 |  0.16 | 0.0152 | 0.0048 |\n",
            "+-----+--------+-------+--------+--------+\n",
            "|   9 | 0.1452 |  0.18 | 0.0348 | 0.0148 |\n",
            "+-----+--------+-------+--------+--------+\n",
            "|  10 | 0.1455 |  0.2  | 0.0545 | 0.0345 |\n",
            "+-----+--------+-------+--------+--------+\n",
            "|  11 | 0.1456 |  0.22 | 0.0744 | 0.0544 |\n",
            "+-----+--------+-------+--------+--------+\n",
            "|  12 | 0.1467 |  0.24 | 0.0933 | 0.0733 |\n",
            "+-----+--------+-------+--------+--------+\n",
            "|  13 | 0.1468 |  0.26 | 0.1132 | 0.0932 |\n",
            "+-----+--------+-------+--------+--------+\n",
            "|  14 | 0.1469 |  0.28 | 0.1331 | 0.1131 |\n",
            "+-----+--------+-------+--------+--------+\n",
            "|  15 | 0.1475 |  0.3  | 0.1525 | 0.1325 |\n",
            "+-----+--------+-------+--------+--------+\n",
            "|  16 | 0.1477 |  0.32 | 0.1723 | 0.1523 |\n",
            "+-----+--------+-------+--------+--------+\n",
            "|  17 | 0.1479 |  0.34 | 0.1921 | 0.1721 |\n",
            "+-----+--------+-------+--------+--------+\n",
            "|  18 | 0.1485 |  0.36 | 0.2115 | 0.1915 |\n",
            "+-----+--------+-------+--------+--------+\n",
            "|  19 | 0.1487 |  0.38 | 0.2313 | 0.2113 |\n",
            "+-----+--------+-------+--------+--------+\n",
            "|  20 | 0.1488 |  0.4  | 0.2512 | 0.2312 |\n",
            "+-----+--------+-------+--------+--------+\n",
            "|  21 | 0.1492 |  0.42 | 0.2708 | 0.2508 |\n",
            "+-----+--------+-------+--------+--------+\n",
            "|  22 | 0.1493 |  0.44 | 0.2907 | 0.2707 |\n",
            "+-----+--------+-------+--------+--------+\n",
            "|  23 | 0.1496 |  0.46 | 0.3104 | 0.2904 |\n",
            "+-----+--------+-------+--------+--------+\n",
            "|  24 | 0.1496 |  0.48 | 0.3304 | 0.3104 |\n",
            "+-----+--------+-------+--------+--------+\n",
            "|  25 | 0.15   |  0.5  | 0.35   | 0.33   |\n",
            "+-----+--------+-------+--------+--------+\n",
            "|  26 | 0.15   |  0.52 | 0.37   | 0.35   |\n",
            "+-----+--------+-------+--------+--------+\n",
            "|  27 | 0.1501 |  0.54 | 0.3899 | 0.3699 |\n",
            "+-----+--------+-------+--------+--------+\n",
            "|  28 | 0.1501 |  0.56 | 0.4099 | 0.3899 |\n",
            "+-----+--------+-------+--------+--------+\n",
            "|  29 | 0.1502 |  0.58 | 0.4298 | 0.4098 |\n",
            "+-----+--------+-------+--------+--------+\n",
            "|  30 | 0.1506 |  0.6  | 0.4494 | 0.4294 |\n",
            "+-----+--------+-------+--------+--------+\n",
            "|  31 | 0.1506 |  0.62 | 0.4694 | 0.4494 |\n",
            "+-----+--------+-------+--------+--------+\n",
            "|  32 | 0.1509 |  0.64 | 0.4891 | 0.4691 |\n",
            "+-----+--------+-------+--------+--------+\n",
            "|  33 | 0.1513 |  0.66 | 0.5087 | 0.4887 |\n",
            "+-----+--------+-------+--------+--------+\n",
            "|  34 | 0.1516 |  0.68 | 0.5284 | 0.5084 |\n",
            "+-----+--------+-------+--------+--------+\n",
            "|  35 | 0.1516 |  0.7  | 0.5484 | 0.5284 |\n",
            "+-----+--------+-------+--------+--------+\n",
            "|  36 | 0.1517 |  0.72 | 0.5683 | 0.5483 |\n",
            "+-----+--------+-------+--------+--------+\n",
            "|  37 | 0.1526 |  0.74 | 0.5874 | 0.5674 |\n",
            "+-----+--------+-------+--------+--------+\n",
            "|  38 | 0.1531 |  0.76 | 0.6069 | 0.5869 |\n",
            "+-----+--------+-------+--------+--------+\n",
            "|  39 | 0.1546 |  0.78 | 0.6254 | 0.6054 |\n",
            "+-----+--------+-------+--------+--------+\n",
            "|  40 | 0.1551 |  0.8  | 0.6449 | 0.6249 |\n",
            "+-----+--------+-------+--------+--------+\n",
            "|  41 | 0.1562 |  0.82 | 0.6638 | 0.6438 |\n",
            "+-----+--------+-------+--------+--------+\n",
            "|  42 | 0.1571 |  0.84 | 0.6829 | 0.6629 |\n",
            "+-----+--------+-------+--------+--------+\n",
            "|  43 | 0.1577 |  0.86 | 0.7023 | 0.6823 |\n",
            "+-----+--------+-------+--------+--------+\n",
            "|  44 | 0.1584 |  0.88 | 0.7216 | 0.7016 |\n",
            "+-----+--------+-------+--------+--------+\n",
            "|  45 | 0.1587 |  0.9  | 0.7413 | 0.7213 |\n",
            "+-----+--------+-------+--------+--------+\n",
            "|  46 | 0.1588 |  0.92 | 0.7612 | 0.7412 |\n",
            "+-----+--------+-------+--------+--------+\n",
            "|  47 | 0.1588 |  0.94 | 0.7812 | 0.7612 |\n",
            "+-----+--------+-------+--------+--------+\n",
            "|  48 | 0.1603 |  0.96 | 0.7997 | 0.7797 |\n",
            "+-----+--------+-------+--------+--------+\n",
            "|  49 | 0.1609 |  0.98 | 0.8191 | 0.7991 |\n",
            "+-----+--------+-------+--------+--------+\n",
            "|  50 | 0.1642 |  1    | 0.8358 | 0.8158 |\n",
            "+-----+--------+-------+--------+--------+\n"
          ]
        }
      ]
    },
    {
      "cell_type": "code",
      "source": [
        "xm=abs(round(max(list_mas_max),4))\n",
        "xn=abs(round(max(list_menos_max),4))\n",
        "\n",
        "if xn<xm:\n",
        "  D=xm\n",
        "else:\n",
        "  D=xn\n",
        "\n",
        "\n",
        "print(\"Para D=max{\",xm,\",\",xn,\"}=\", D)\n"
      ],
      "metadata": {
        "colab": {
          "base_uri": "https://localhost:8080/"
        },
        "id": "knKDVuzeSdPv",
        "outputId": "4a40fb21-d78f-43e8-e5a3-c0cd51331ec3"
      },
      "execution_count": 35,
      "outputs": [
        {
          "output_type": "stream",
          "name": "stdout",
          "text": [
            "Para D=max{ 0.8358 , 0.8158 }= 0.8358\n"
          ]
        }
      ]
    },
    {
      "cell_type": "code",
      "source": [
        "#hacer historiograma\n",
        "plt.hist(lista)"
      ],
      "metadata": {
        "colab": {
          "base_uri": "https://localhost:8080/",
          "height": 502
        },
        "id": "sflRvLC1zUvD",
        "outputId": "f557c998-f1c7-42cb-82ce-c3710bb8918e"
      },
      "execution_count": 34,
      "outputs": [
        {
          "output_type": "execute_result",
          "data": {
            "text/plain": [
              "(array([ 1.,  1.,  6.,  7., 14.,  9.,  2.,  4.,  5.,  1.]),\n",
              " array([0.1366 , 0.13936, 0.14212, 0.14488, 0.14764, 0.1504 , 0.15316,\n",
              "        0.15592, 0.15868, 0.16144, 0.1642 ]),\n",
              " <BarContainer object of 10 artists>)"
            ]
          },
          "metadata": {},
          "execution_count": 34
        },
        {
          "output_type": "display_data",
          "data": {
            "text/plain": [
              "<Figure size 640x480 with 1 Axes>"
            ],
            "image/png": "[encoded data removed]"
          },
          "metadata": {}
        }
      ]
    }
  ]
}