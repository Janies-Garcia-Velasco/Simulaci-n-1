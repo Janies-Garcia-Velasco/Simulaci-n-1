{
  "nbformat": 4,
  "nbformat_minor": 0,
  "metadata": {
    "colab": {
      "provenance": [],
      "authorship_tag": "ABX9TyPUTbkCtkwhXQ9T5Vfw8Zqp",
      "include_colab_link": true
    },
    "kernelspec": {
      "name": "python3",
      "display_name": "Python 3"
    },
    "language_info": {
      "name": "python"
    }
  },
  "cells": [
    {
      "cell_type": "markdown",
      "metadata": {
        "id": "view-in-github",
        "colab_type": "text"
      },
      "source": [
        "<a href=\"https://colab.research.google.com/github/Janies-Garcia-Velasco/Simulaci-n-1/blob/main/Problemario_Ejericio20_Kolmogorov.ipynb\" target=\"_parent\"><img src=\"https://colab.research.google.com/assets/colab-badge.svg\" alt=\"Open In Colab\"/></a>"
      ]
    },
    {
      "cell_type": "code",
      "execution_count": 50,
      "metadata": {
        "id": "lucD7YIlyS4J"
      },
      "outputs": [],
      "source": [
        "import numpy as np\n",
        "import openpyxl\n",
        "from tabulate import tabulate\n",
        "import tabulate\n",
        "import matplotlib.pyplot as plt"
      ]
    },
    {
      "cell_type": "code",
      "source": [
        "#creacion de la lista vacia\n",
        "lista=[]\n",
        "i=1\n",
        "list_mas_max = []\n",
        "list_menos_max=[]"
      ],
      "metadata": {
        "id": "r0AAfGp-ygzN"
      },
      "execution_count": 42,
      "outputs": []
    },
    {
      "cell_type": "code",
      "source": [
        "#permiso para entrar al archivo excel\n",
        "num_muestra=openpyxl.load_workbook(\"ejercicio 20 problemario.xlsx\")\n",
        "muestra=num_muestra.active"
      ],
      "metadata": {
        "id": "snZDoTySykpI"
      },
      "execution_count": 43,
      "outputs": []
    },
    {
      "cell_type": "code",
      "source": [
        "#ir columna por fila extrayendo los datos\n",
        "for row in range(1,muestra.max_row+1):\n",
        "  #ir por fila extrayendo datos\n",
        "  for col in muestra.iter_cols(1, muestra.max_column):\n",
        "    #guardando los datos en el x\n",
        "    x=col[row-1].value\n",
        "\n",
        "    #cambiar las comas por puntos para volve un decimal posible de calcular\n",
        "    if isinstance(x,str):\n",
        "      x=x.replace(\",\",\".\")\n",
        "    try:\n",
        "      x=float(x)\n",
        "    except ValueError:\n",
        "      continue\n",
        "\n",
        "    lista.append(x)"
      ],
      "metadata": {
        "id": "xOotdT-gyu-v"
      },
      "execution_count": 44,
      "outputs": []
    },
    {
      "cell_type": "code",
      "source": [
        "##lista ordenada\n",
        "lista.sort()"
      ],
      "metadata": {
        "id": "j7IZTpz2y1k6"
      },
      "execution_count": 45,
      "outputs": []
    },
    {
      "cell_type": "code",
      "source": [
        "#numero de datos en la lista\n",
        "n=len(lista)\n",
        "resultados=[]"
      ],
      "metadata": {
        "id": "enUqvqbgyzoR"
      },
      "execution_count": 46,
      "outputs": []
    },
    {
      "cell_type": "code",
      "source": [
        "#para hacer las operaciones de dmenos, dmas, sus absolutos y los maximos cada ciclo durante el bucle\n",
        "while i<=n:\n",
        "  xi = lista[i-1]\n",
        "  xin=round(i/n,4)\n",
        "  dmas=abs((round(i/n,2))-xi)\n",
        "  dmenos=abs(xi-round(((i-1)/n),2))\n",
        "  list_mas_max.append(dmas)\n",
        "  list_menos_max.append(dmenos)\n",
        "  resultados.append([i,xi,xin,dmas,dmenos])\n",
        "  i+=1"
      ],
      "metadata": {
        "id": "T5ZBezD4y6hj"
      },
      "execution_count": 47,
      "outputs": []
    },
    {
      "cell_type": "code",
      "source": [
        "#hacer tabla\n",
        "tabla=[\"i\",\"Xi\",\"i/n\",\"D+\",\"D-\"]\n",
        "print(tabulate.tabulate(resultados, headers=tabla, tablefmt=\"grid\"))"
      ],
      "metadata": {
        "colab": {
          "base_uri": "https://localhost:8080/"
        },
        "id": "MQZpQLwR0vli",
        "outputId": "dcb0d1e9-0106-4640-f478-b456a68ce7d1"
      },
      "execution_count": 48,
      "outputs": [
        {
          "output_type": "stream",
          "name": "stdout",
          "text": [
            "+-----+-------+-------+--------+--------+\n",
            "|   i |    Xi |   i/n |     D+ |     D- |\n",
            "+=====+=======+=======+========+========+\n",
            "|   1 | 136.6 |  0.02 | 136.58 | 136.6  |\n",
            "+-----+-------+-------+--------+--------+\n",
            "|   2 | 142.1 |  0.04 | 142.06 | 142.08 |\n",
            "+-----+-------+-------+--------+--------+\n",
            "|   3 | 142.3 |  0.06 | 142.24 | 142.26 |\n",
            "+-----+-------+-------+--------+--------+\n",
            "|   4 | 142.8 |  0.08 | 142.72 | 142.74 |\n",
            "+-----+-------+-------+--------+--------+\n",
            "|   5 | 144.5 |  0.1  | 144.4  | 144.42 |\n",
            "+-----+-------+-------+--------+--------+\n",
            "|   6 | 144.5 |  0.12 | 144.38 | 144.4  |\n",
            "+-----+-------+-------+--------+--------+\n",
            "|   7 | 144.5 |  0.14 | 144.36 | 144.38 |\n",
            "+-----+-------+-------+--------+--------+\n",
            "|   8 | 144.8 |  0.16 | 144.64 | 144.66 |\n",
            "+-----+-------+-------+--------+--------+\n",
            "|   9 | 145.2 |  0.18 | 145.02 | 145.04 |\n",
            "+-----+-------+-------+--------+--------+\n",
            "|  10 | 145.5 |  0.2  | 145.3  | 145.32 |\n",
            "+-----+-------+-------+--------+--------+\n",
            "|  11 | 145.6 |  0.22 | 145.38 | 145.4  |\n",
            "+-----+-------+-------+--------+--------+\n",
            "|  12 | 146.7 |  0.24 | 146.46 | 146.48 |\n",
            "+-----+-------+-------+--------+--------+\n",
            "|  13 | 146.8 |  0.26 | 146.54 | 146.56 |\n",
            "+-----+-------+-------+--------+--------+\n",
            "|  14 | 146.9 |  0.28 | 146.62 | 146.64 |\n",
            "+-----+-------+-------+--------+--------+\n",
            "|  15 | 147.5 |  0.3  | 147.2  | 147.22 |\n",
            "+-----+-------+-------+--------+--------+\n",
            "|  16 | 147.7 |  0.32 | 147.38 | 147.4  |\n",
            "+-----+-------+-------+--------+--------+\n",
            "|  17 | 147.9 |  0.34 | 147.56 | 147.58 |\n",
            "+-----+-------+-------+--------+--------+\n",
            "|  18 | 148.5 |  0.36 | 148.14 | 148.16 |\n",
            "+-----+-------+-------+--------+--------+\n",
            "|  19 | 148.7 |  0.38 | 148.32 | 148.34 |\n",
            "+-----+-------+-------+--------+--------+\n",
            "|  20 | 148.8 |  0.4  | 148.4  | 148.42 |\n",
            "+-----+-------+-------+--------+--------+\n",
            "|  21 | 149.2 |  0.42 | 148.78 | 148.8  |\n",
            "+-----+-------+-------+--------+--------+\n",
            "|  22 | 149.3 |  0.44 | 148.86 | 148.88 |\n",
            "+-----+-------+-------+--------+--------+\n",
            "|  23 | 149.6 |  0.46 | 149.14 | 149.16 |\n",
            "+-----+-------+-------+--------+--------+\n",
            "|  24 | 149.6 |  0.48 | 149.12 | 149.14 |\n",
            "+-----+-------+-------+--------+--------+\n",
            "|  25 | 150   |  0.5  | 149.5  | 149.52 |\n",
            "+-----+-------+-------+--------+--------+\n",
            "|  26 | 150   |  0.52 | 149.48 | 149.5  |\n",
            "+-----+-------+-------+--------+--------+\n",
            "|  27 | 150.1 |  0.54 | 149.56 | 149.58 |\n",
            "+-----+-------+-------+--------+--------+\n",
            "|  28 | 150.1 |  0.56 | 149.54 | 149.56 |\n",
            "+-----+-------+-------+--------+--------+\n",
            "|  29 | 150.2 |  0.58 | 149.62 | 149.64 |\n",
            "+-----+-------+-------+--------+--------+\n",
            "|  30 | 150.6 |  0.6  | 150    | 150.02 |\n",
            "+-----+-------+-------+--------+--------+\n",
            "|  31 | 150.6 |  0.62 | 149.98 | 150    |\n",
            "+-----+-------+-------+--------+--------+\n",
            "|  32 | 150.9 |  0.64 | 150.26 | 150.28 |\n",
            "+-----+-------+-------+--------+--------+\n",
            "|  33 | 151.3 |  0.66 | 150.64 | 150.66 |\n",
            "+-----+-------+-------+--------+--------+\n",
            "|  34 | 151.6 |  0.68 | 150.92 | 150.94 |\n",
            "+-----+-------+-------+--------+--------+\n",
            "|  35 | 151.6 |  0.7  | 150.9  | 150.92 |\n",
            "+-----+-------+-------+--------+--------+\n",
            "|  36 | 151.7 |  0.72 | 150.98 | 151    |\n",
            "+-----+-------+-------+--------+--------+\n",
            "|  37 | 152.6 |  0.74 | 151.86 | 151.88 |\n",
            "+-----+-------+-------+--------+--------+\n",
            "|  38 | 153.1 |  0.76 | 152.34 | 152.36 |\n",
            "+-----+-------+-------+--------+--------+\n",
            "|  39 | 154.6 |  0.78 | 153.82 | 153.84 |\n",
            "+-----+-------+-------+--------+--------+\n",
            "|  40 | 155.1 |  0.8  | 154.3  | 154.32 |\n",
            "+-----+-------+-------+--------+--------+\n",
            "|  41 | 156.2 |  0.82 | 155.38 | 155.4  |\n",
            "+-----+-------+-------+--------+--------+\n",
            "|  42 | 157.1 |  0.84 | 156.26 | 156.28 |\n",
            "+-----+-------+-------+--------+--------+\n",
            "|  43 | 157.7 |  0.86 | 156.84 | 156.86 |\n",
            "+-----+-------+-------+--------+--------+\n",
            "|  44 | 158.4 |  0.88 | 157.52 | 157.54 |\n",
            "+-----+-------+-------+--------+--------+\n",
            "|  45 | 158.7 |  0.9  | 157.8  | 157.82 |\n",
            "+-----+-------+-------+--------+--------+\n",
            "|  46 | 158.8 |  0.92 | 157.88 | 157.9  |\n",
            "+-----+-------+-------+--------+--------+\n",
            "|  47 | 158.8 |  0.94 | 157.86 | 157.88 |\n",
            "+-----+-------+-------+--------+--------+\n",
            "|  48 | 160.3 |  0.96 | 159.34 | 159.36 |\n",
            "+-----+-------+-------+--------+--------+\n",
            "|  49 | 160.9 |  0.98 | 159.92 | 159.94 |\n",
            "+-----+-------+-------+--------+--------+\n",
            "|  50 | 164.2 |  1    | 163.2  | 163.22 |\n",
            "+-----+-------+-------+--------+--------+\n"
          ]
        }
      ]
    },
    {
      "cell_type": "code",
      "source": [
        "if dmas<dmenos:\n",
        "  D=dmas\n",
        "else:\n",
        "  D=dmenos\n",
        "\n",
        "\n",
        "print(\"Para D=max{\",abs(round(max(list_mas_max),3)),\",\",abs(round(max(list_menos_max),3)),\"}=\", D)\n"
      ],
      "metadata": {
        "colab": {
          "base_uri": "https://localhost:8080/"
        },
        "id": "knKDVuzeSdPv",
        "outputId": "c6ccd34e-1715-4e10-b74b-38fc20422437"
      },
      "execution_count": 49,
      "outputs": [
        {
          "output_type": "stream",
          "name": "stdout",
          "text": [
            "Para D=max{ 163.2 , 163.22 }= 163.2\n"
          ]
        }
      ]
    },
    {
      "cell_type": "code",
      "source": [
        "#hacer historiograma\n",
        "plt.hist(lista)"
      ],
      "metadata": {
        "colab": {
          "base_uri": "https://localhost:8080/",
          "height": 502
        },
        "id": "sflRvLC1zUvD",
        "outputId": "a85c6159-fd6e-4b6a-c2df-6ed1478c020c"
      },
      "execution_count": 51,
      "outputs": [
        {
          "output_type": "execute_result",
          "data": {
            "text/plain": [
              "(array([ 1.,  1.,  6.,  7., 14.,  9.,  2.,  4.,  5.,  1.]),\n",
              " array([136.6 , 139.36, 142.12, 144.88, 147.64, 150.4 , 153.16, 155.92,\n",
              "        158.68, 161.44, 164.2 ]),\n",
              " <BarContainer object of 10 artists>)"
            ]
          },
          "metadata": {},
          "execution_count": 51
        },
        {
          "output_type": "display_data",
          "data": {
            "text/plain": [
              "<Figure size 640x480 with 1 Axes>"
            ],
            "image/png": "[encoded data removed]"
          },
          "metadata": {}
        }
      ]
    }
  ]
}