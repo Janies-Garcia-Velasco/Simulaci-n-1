{
  "nbformat": 4,
  "nbformat_minor": 0,
  "metadata": {
    "colab": {
      "provenance": [],
      "authorship_tag": "ABX9TyMR3m606xessPTlD/J3uIHj",
      "include_colab_link": true
    },
    "kernelspec": {
      "name": "python3",
      "display_name": "Python 3"
    },
    "language_info": {
      "name": "python"
    }
  },
  "cells": [
    {
      "cell_type": "markdown",
      "metadata": {
        "id": "view-in-github",
        "colab_type": "text"
      },
      "source": [
        "<a href=\"https://colab.research.google.com/github/Janies-Garcia-Velasco/Simulaci-n-1/blob/main/Inventario.ipynb\" target=\"_parent\"><img src=\"https://colab.research.google.com/assets/colab-badge.svg\" alt=\"Open In Colab\"/></a>"
      ]
    },
    {
      "cell_type": "code",
      "execution_count": 4,
      "metadata": {
        "colab": {
          "base_uri": "https://localhost:8080/"
        },
        "id": "2mDc18W0GqFi",
        "outputId": "ab46362f-7fcd-45ed-fcab-57553506496e"
      },
      "outputs": [
        {
          "output_type": "stream",
          "name": "stdout",
          "text": [
            "costo total del tipo de orden 1: 8342 , costo total del tipo de orden 2:  9216\n"
          ]
        }
      ],
      "source": [
        "import numpy as np\n",
        "\n",
        "# Parámetros\n",
        "n = 6\n",
        "theta = 0.5\n",
        "lambda_poisson = 3\n",
        "costo_inventario = 1  # Costo de mantener una unidad de inventario por día\n",
        "costo_faltante = 10  # Costo por unidad faltante\n",
        "costo_orden = 50  # Costo por ordenar\n",
        "dias_simulacion = 365  # Número de días para la simulación, tomandolo de forma conveniente\n",
        "\n",
        "# Función para generar la demanda diaria\n",
        "def generar_demanda(n, theta):\n",
        "    return np.random.binomial(n, theta)\n",
        "\n",
        "# Función para generar el tiempo de entrega\n",
        "def generar_tiempo_entrega(lambda_poisson):\n",
        "    return np.random.poisson(lambda_poisson)\n",
        "\n",
        "# Simulación para la política 1\n",
        "def simular_politica1(dias_simulacion):\n",
        "    inventario = 30  # Inventario inicial\n",
        "    costo_total = 0  # Costo total acumulado\n",
        "    for dia in range(1, dias_simulacion + 1):\n",
        "        demanda = generar_demanda(n, theta)\n",
        "        inventario -= demanda\n",
        "        if inventario < 0:\n",
        "            costo_total += abs(inventario) * costo_faltante\n",
        "            inventario = 0\n",
        "\n",
        "        costo_total += inventario * costo_inventario\n",
        "\n",
        "        if dia % 8 == 0:  # Cada 8 días\n",
        "            orden = 30 - inventario\n",
        "            tiempo_entrega = generar_tiempo_entrega(lambda_poisson)\n",
        "            costo_total += costo_orden\n",
        "            inventario += orden\n",
        "\n",
        "    return costo_total\n",
        "\n",
        "# Simulación para la política 2\n",
        "def simular_politica2(dias_simulacion):\n",
        "    inventario = 30  # Inventario inicial\n",
        "    costo_total = 0  # Costo total acumulado\n",
        "    for dia in range(1, dias_simulacion + 1):\n",
        "        demanda = generar_demanda(n, theta)\n",
        "        inventario -= demanda\n",
        "        if inventario < 0:\n",
        "            costo_total += abs(inventario) * costo_faltante\n",
        "            inventario = 0\n",
        "\n",
        "        costo_total += inventario * costo_inventario\n",
        "\n",
        "        if inventario <= 10:  # Cuando el inventario es menor o igual a 10\n",
        "            orden = 30 - inventario\n",
        "            tiempo_entrega = generar_tiempo_entrega(lambda_poisson)\n",
        "            costo_total += costo_orden\n",
        "            inventario += orden\n",
        "\n",
        "    return costo_total\n",
        "\n",
        "# Correr la simulación\n",
        "costo_politica1 = simular_politica1(dias_simulacion)\n",
        "costo_politica2 = simular_politica2(dias_simulacion)\n",
        "\n",
        "print(\"costo total del tipo de orden 1:\", costo_politica1,\", costo total del tipo de orden 2: \", costo_politica2)\n"
      ]
    }
  ]
}