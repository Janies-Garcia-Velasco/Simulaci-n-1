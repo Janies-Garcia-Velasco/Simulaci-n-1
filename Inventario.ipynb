{
  "nbformat": 4,
  "nbformat_minor": 0,
  "metadata": {
    "colab": {
      "provenance": [],
      "authorship_tag": "ABX9TyMyxynGL2c3HDC9YAywOXcz",
      "include_colab_link": true
    },
    "kernelspec": {
      "name": "python3",
      "display_name": "Python 3"
    },
    "language_info": {
      "name": "python"
    }
  },
  "cells": [
    {
      "cell_type": "markdown",
      "metadata": {
        "id": "view-in-github",
        "colab_type": "text"
      },
      "source": [
        "<a href=\"https://colab.research.google.com/github/Janies-Garcia-Velasco/Simulaci-n-1/blob/main/Inventario.ipynb\" target=\"_parent\"><img src=\"https://colab.research.google.com/assets/colab-badge.svg\" alt=\"Open In Colab\"/></a>"
      ]
    },
    {
      "cell_type": "code",
      "source": [
        "import numpy as np\n",
        "\n",
        "# Parámetros\n",
        "n = 6\n",
        "theta = 0.5\n",
        "lambda_poisson = 3\n",
        "costo_inventario = 1  # Costo de mantener una unidad de inventario por día\n",
        "costo_faltante = 10  # Costo por unidad faltante\n",
        "costo_orden = 50  # Costo por ordenar\n",
        "dias_simulacion = 365  # Número de días para la simulación\n",
        "\n",
        "# Función para generar la demanda diaria\n",
        "def generar_demanda(n, theta):\n",
        "    return np.random.binomial(n, theta)\n",
        "\n",
        "# Función para generar el tiempo de entrega\n",
        "def generar_tiempo_entrega(lambda_poisson):\n",
        "    return np.random.poisson(lambda_poisson)\n",
        "\n",
        "# Simulación para la política 1\n",
        "def simular_politica1(dias_simulacion):\n",
        "    inventario = 30  # Inventario inicial\n",
        "    costo_total = 0  # Costo total acumulado\n",
        "    for dia in range(1, dias_simulacion + 1):\n",
        "        demanda = generar_demanda(n, theta)\n",
        "        inventario -= demanda\n",
        "        if inventario < 0:\n",
        "            costo_total += abs(inventario) * costo_faltante\n",
        "            inventario = 0\n",
        "\n",
        "        costo_total += inventario * costo_inventario\n",
        "\n",
        "        if dia % 8 == 0:  # Cada 8 días\n",
        "            orden = 30 - inventario\n",
        "            tiempo_entrega = generar_tiempo_entrega(lambda_poisson)\n",
        "            costo_total += costo_orden\n",
        "            inventario += orden\n",
        "\n",
        "    return costo_total\n",
        "\n",
        "# Simulación para la política 2\n",
        "def simular_politica2(dias_simulacion):\n",
        "    inventario = 30  # Inventario inicial\n",
        "    costo_total = 0  # Costo total acumulado\n",
        "    for dia in range(1, dias_simulacion + 1):\n",
        "        demanda = generar_demanda(n, theta)\n",
        "        inventario -= demanda\n",
        "        if inventario < 0:\n",
        "            costo_total += abs(inventario) * costo_faltante\n",
        "            inventario = 0\n",
        "\n",
        "        costo_total += inventario * costo_inventario\n",
        "\n",
        "        if inventario <= 10:  # Cuando el inventario es menor o igual a 10\n",
        "            orden = 30 - inventario\n",
        "            tiempo_entrega = generar_tiempo_entrega(lambda_poisson)\n",
        "            costo_total += costo_orden\n",
        "            inventario += orden\n",
        "\n",
        "    return costo_total\n",
        "\n",
        "# Correr la simulación\n",
        "costo_politica1 = simular_politica1(dias_simulacion)\n",
        "costo_politica2 = simular_politica2(dias_simulacion)\n",
        "\n",
        "print(\"Costo de ordenar cada 8 dias hasta tener 30 articulos en inventario tiene un costo de: \",costo_politica1,\", Costo de ordenar hasta 30 articulos cuando el nivel de inventario sea menos o igual a 10: \", costo_politica2)\n",
        "\n",
        "if costo_politica1> costo_politica2:\n",
        "  print(\"El costo de la politica 2 es mas economica que la politica 1\")\n",
        "else:\n",
        "  print(\"El costo de la politica 1 es mas economica que la politica 2\")"
      ],
      "metadata": {
        "colab": {
          "base_uri": "https://localhost:8080/"
        },
        "id": "lIVvN1rFMQTp",
        "outputId": "f7adb234-25f9-4b8d-baf0-b8d24ef9fa7b"
      },
      "execution_count": 10,
      "outputs": [
        {
          "output_type": "stream",
          "name": "stdout",
          "text": [
            "Costo de ordenar cada 8 dias hasta tener 30 articulos en inventario tiene un costo de:  8597 , Costo de ordenar hasta 30 articulos cuando el nivel de inventario sea menos o igual a 10:  9188\n",
            "El costo de la politica 1 es mas economica que la politica 2\n"
          ]
        }
      ]
    },
    {
      "cell_type": "code",
      "source": [
        "import numpy as np\n",
        "\n",
        "# Parámetros\n",
        "n = 6\n",
        "theta = 0.5\n",
        "lambda_poisson = 3\n",
        "costo_inventario = 1  # Costo de mantener una unidad de inventario por día\n",
        "costo_faltante = 10  # Costo por unidad faltante\n",
        "costo_orden = 50  # Costo por ordenar\n",
        "dias_simulacion = 365  # Número de días para la simulación\n",
        "\n",
        "# Función para generar la demanda diaria\n",
        "def generar_demanda(n, theta):\n",
        "    return np.random.binomial(n, theta)\n",
        "\n",
        "# Función para generar el tiempo de entrega\n",
        "def generar_tiempo_entrega(lambda_poisson):\n",
        "    return np.random.poisson(lambda_poisson)\n",
        "\n",
        "# Simulación para una política dada\n",
        "def simular_politica(dias_simulacion, punto_reorden, cantidad_reorden):\n",
        "    inventario = cantidad_reorden  # Inventario inicial\n",
        "    costo_total = 0  # Costo total acumulado\n",
        "    for dia in range(1, dias_simulacion + 1):\n",
        "        demanda = generar_demanda(n, theta)\n",
        "        inventario -= demanda\n",
        "        if inventario < 0:\n",
        "            costo_total += abs(inventario) * costo_faltante\n",
        "            inventario = 0\n",
        "\n",
        "        costo_total += inventario * costo_inventario\n",
        "\n",
        "        if inventario <= punto_reorden:\n",
        "            orden = cantidad_reorden - inventario\n",
        "            tiempo_entrega = generar_tiempo_entrega(lambda_poisson)\n",
        "            costo_total += costo_orden\n",
        "            inventario += orden\n",
        "\n",
        "    return costo_total\n",
        "\n",
        "# Rango de políticas a evaluar\n",
        "puntos_reorden = range(1, 21)  # Puntos de reorden entre 1 y 20\n",
        "cantidades_reorden = range(10, 31)  # Cantidades de reorden entre 10 y 30\n",
        "\n",
        "# Encontrar la política óptima\n",
        "costo_minimo = float('inf')\n",
        "mejor_punto_reorden = None\n",
        "mejor_cantidad_reorden = None\n",
        "\n",
        "for punto_reorden in puntos_reorden:\n",
        "    for cantidad_reorden in cantidades_reorden:\n",
        "        costo = simular_politica(dias_simulacion, punto_reorden, cantidad_reorden)\n",
        "        if costo < costo_minimo:\n",
        "            costo_minimo = costo\n",
        "            mejor_punto_reorden = punto_reorden\n",
        "            mejor_cantidad_reorden = cantidad_reorden\n",
        "\n",
        "print(\"costo total:\", costo_minimo,\", punto de reorden: \", mejor_punto_reorden, \", cantidad de reorden: \",mejor_cantidad_reorden)\n"
      ],
      "metadata": {
        "colab": {
          "base_uri": "https://localhost:8080/"
        },
        "id": "0oZ9Pu11KyLn",
        "outputId": "b0629648-1489-4070-c6b6-d50c16bdc6cb"
      },
      "execution_count": 8,
      "outputs": [
        {
          "output_type": "stream",
          "name": "stdout",
          "text": [
            "costo total: 6075 , punto de reorden:  1 , cantidad de reorden:  19\n"
          ]
        }
      ]
    }
  ]
}