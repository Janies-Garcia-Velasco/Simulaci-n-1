{
  "cells": [
    {
      "cell_type": "markdown",
      "id": "c21e5530",
      "metadata": {
        "id": "c21e5530"
      },
      "source": [
        "# Ejemplo: Flecha y cojinete"
      ]
    },
    {
      "cell_type": "markdown",
      "id": "61f9bd36",
      "metadata": {
        "id": "61f9bd36"
      },
      "source": [
        "Una flecha será embonada en un cojinete como se muestra a continuación\n",
        "\n",
        "<img src=\"https://github.com/Medetl/Simulacion/blob/main/Unidad%20II/cojinete.png?raw=1\">"
      ]
    },
    {
      "cell_type": "markdown",
      "id": "5f658ca1",
      "metadata": {
        "id": "5f658ca1"
      },
      "source": [
        "Si $x_1$ sigue una distribución normal con media $1.5$ y varianza $0.0016$, y $x_2$ esta misma distribución con media $1.48$ y varianza $0.0009$, determine:\n",
        "\n",
        "a) La probabilidad de que haya interferencia.\n",
        "\n",
        "b) El número de veces que es necesario simular el experimento, si se quiere que la probabilidad de interferencia estimada difiera de su valor verdadero en menos de $0.01$, con un nivel de seguridad del $95\\%.$"
      ]
    },
    {
      "cell_type": "markdown",
      "id": "fac00420",
      "metadata": {
        "id": "fac00420"
      },
      "source": [
        "Vamos a resolver este problema, procurando seguir la metodología vista en el curso."
      ]
    },
    {
      "cell_type": "markdown",
      "id": "ccd32164",
      "metadata": {
        "id": "ccd32164"
      },
      "source": [
        "### 1. Identifique las variables\n",
        "\n",
        "Tenemos dos: $x_1$ y $x_2$."
      ]
    },
    {
      "cell_type": "markdown",
      "id": "ae8735e5",
      "metadata": {
        "id": "ae8735e5"
      },
      "source": [
        "### 2 y 3. Determine la distribución de probabilidad y modele las variables aleatorias\n",
        "\n",
        "En el planteamiento ya se especifica que $x_1 \\sim N(1.5, 0.04)$ y que $x_1 \\sim N(1.48, 0.03)$."
      ]
    },
    {
      "cell_type": "markdown",
      "id": "b1b57a13",
      "metadata": {
        "id": "b1b57a13"
      },
      "source": [
        "### 4. Defina el modelo del sistema y los objetivos de la simulación\n",
        "\n",
        "La diferencia $x_1 - x_2$ modela adecuadamente el sistema.\n",
        "\n",
        "Si $x_2 - x_1 > 0$ el diametro de la flecha es más grande que el espacio en el cojinte y, por tanto, hay interferencia. De lo contrario, las piezas embonan sin problema.\n",
        "\n",
        "Objetivo: determinar la frecuencia con que esto ocurre, lo cual nos da una esrimación de la probabilidad de interefrencia.\n",
        "\n",
        "Una forma de implementarlo es mediante el siguiente código."
      ]
    },
    {
      "cell_type": "code",
      "execution_count": null,
      "id": "191b1e9b",
      "metadata": {
        "id": "191b1e9b"
      },
      "outputs": [],
      "source": [
        "import numpy as np\n",
        "import random\n",
        "import matplotlib.pyplot as plt\n",
        "from scipy.stats import norm"
      ]
    },
    {
      "cell_type": "code",
      "execution_count": null,
      "id": "e64c27d2",
      "metadata": {
        "id": "e64c27d2"
      },
      "outputs": [],
      "source": [
        "def interferencia():                #Esta función devuelve el valor 1 si hay interferencia o 0 si no la hay.\n",
        "    interf=0\n",
        "    x_1 = random.gauss(1.50,0.04)    #La funcion gauss genera un número que sigue una distribucion normal con\n",
        "    x_2 = random.gauss(1.48,0.03)   # la media y la desvicion estandar especificados.\n",
        "    if 0.0 < x_2 - x_1:\n",
        "        interf += 1\n",
        "    return interf"
      ]
    },
    {
      "cell_type": "code",
      "execution_count": null,
      "id": "ebe51777",
      "metadata": {
        "id": "ebe51777"
      },
      "outputs": [],
      "source": [
        "interferencia()"
      ]
    },
    {
      "cell_type": "markdown",
      "id": "d6186dac",
      "metadata": {
        "id": "d6186dac"
      },
      "source": [
        "### 5. Diseñe el experimento\n",
        "\n",
        "Para estimar la probabilidad de interferencia, ejecutamos $n$ veces la función anterior y calculamos de manera acumulativa\n",
        "la probabilidad de interferencia."
      ]
    },
    {
      "cell_type": "code",
      "execution_count": null,
      "id": "f9a766a5",
      "metadata": {
        "id": "f9a766a5"
      },
      "outputs": [],
      "source": [
        "def prob_inter(n):\n",
        "    prob = []                       # Esta funcion devuelve esta lista \"prob\", con los valores de la probabilidad\n",
        "    inter = 0                       # estimada al contar las veces que hay interferencia y dividir entre las veces que\n",
        "    for i in range(n):              # se ha reptido la observacion mientras aumenta el numero de iteraciones.\n",
        "        inter += interferencia()\n",
        "        prob.append(inter/(i+1))\n",
        "    return prob"
      ]
    },
    {
      "cell_type": "code",
      "execution_count": null,
      "id": "8099a245",
      "metadata": {
        "id": "8099a245"
      },
      "outputs": [],
      "source": [
        "X = prob_inter(500)                # Asignamos valores a n y realizamos el experimento"
      ]
    },
    {
      "cell_type": "code",
      "execution_count": null,
      "id": "c5a5a3c2",
      "metadata": {
        "id": "c5a5a3c2"
      },
      "outputs": [],
      "source": [
        "plt.plot(X)                         # La gráfica muestra que la convergencia está garantizada con 500 iteraciones\n",
        "                                    # Sin embargo, diferentes ejecuciones darán resultados distintos"
      ]
    },
    {
      "cell_type": "code",
      "execution_count": null,
      "id": "4ac4c689",
      "metadata": {
        "id": "4ac4c689"
      },
      "outputs": [],
      "source": [
        "print(np.mean(X), np.std(X)) #calculamos la media y la desviacion estandar de las estimaciones"
      ]
    },
    {
      "cell_type": "markdown",
      "id": "34727279",
      "metadata": {
        "id": "34727279"
      },
      "source": [
        "### 6. Repita el experimento $n$ veces\n",
        "\n",
        "Una forma de hacerlo es mediante el siguiente codigo."
      ]
    },
    {
      "cell_type": "code",
      "execution_count": null,
      "id": "908f1884",
      "metadata": {
        "id": "908f1884"
      },
      "outputs": [],
      "source": [
        "def modelo(n):             #se realiza el proceso de simulacion varias veces\n",
        "    lista=[]\n",
        "    for i in range(n):\n",
        "        s = prob_inter(500)\n",
        "        lista.append(np.mean(s))\n",
        "    return lista"
      ]
    },
    {
      "cell_type": "code",
      "execution_count": null,
      "id": "34868564",
      "metadata": {
        "id": "34868564"
      },
      "outputs": [],
      "source": [
        "Y=modelo(120)          #se realiza el proceso de simulacion 120 veces"
      ]
    },
    {
      "cell_type": "code",
      "execution_count": null,
      "id": "8a95845e",
      "metadata": {
        "id": "8a95845e"
      },
      "outputs": [],
      "source": [
        "plt.hist(Y)              #para obtener una muestra mas grande y calcular la media y la desviacion estandar\n",
        "plt.show()               #de estas medias muestrales y al final se muestra un historiograma"
      ]
    },
    {
      "cell_type": "code",
      "execution_count": null,
      "id": "e892a16c",
      "metadata": {
        "id": "e892a16c"
      },
      "outputs": [],
      "source": [
        "print(np.mean(Y), np.std(Y))"
      ]
    },
    {
      "cell_type": "markdown",
      "id": "e5dc2362",
      "metadata": {
        "id": "e5dc2362"
      },
      "source": [
        "### Paso 7. Hallamos el intervalo de confianza.\n",
        "\n",
        "$$\\bar{x}-z_{\\alpha/2} \\cdot \\frac{s}{\\sqrt{n}} < \\mu < \\bar{x}+z_{\\alpha/2}\\cdot \\frac{s}{\\sqrt{n}}$$"
      ]
    },
    {
      "cell_type": "code",
      "execution_count": null,
      "id": "23d0b48e",
      "metadata": {
        "id": "23d0b48e"
      },
      "outputs": [],
      "source": [
        "np.mean(Y) # se calcula la media muestral"
      ]
    },
    {
      "cell_type": "code",
      "execution_count": null,
      "id": "b29c74e6",
      "metadata": {
        "id": "b29c74e6"
      },
      "outputs": [],
      "source": [
        "np.mean(Y) - 1.96*np.std(Y)/np.sqrt(50), np.mean(Y) + 1.96*np.std(Y)/np.sqrt(50)"
      ]
    },
    {
      "cell_type": "code",
      "execution_count": 21,
      "id": "3f2cecf1",
      "metadata": {
        "id": "3f2cecf1",
        "outputId": "61d75674-5c69-45cd-8ac9-99082d283c65",
        "colab": {
          "base_uri": "https://localhost:8080/"
        }
      },
      "outputs": [
        {
          "output_type": "stream",
          "name": "stdout",
          "text": [
            "0.3411885068542873 0.3529257043313104\n"
          ]
        }
      ],
      "source": [
        "#calcular un intervalo de confianza del 95% para las medias muestrales\n",
        "IC_bajo = np.mean(Y) - 1.96 * np.std(Y) / np.sqrt(120)\n",
        "IC_arriba = np.mean(Y) + 1.96 * np.std(Y) / np.sqrt(120)\n",
        "print(IC_bajo, IC_arriba)\n"
      ]
    },
    {
      "cell_type": "markdown",
      "id": "112c0954",
      "metadata": {
        "id": "112c0954"
      },
      "source": [
        "### Para determinar el número de simulaciones"
      ]
    },
    {
      "cell_type": "markdown",
      "id": "0a1a63e7",
      "metadata": {
        "id": "0a1a63e7"
      },
      "source": [
        "$$ N > \\Bigg( \\frac{2 \\sigma z_{\\alpha/2}}{\\epsilon} \\Bigg) ^2 $$"
      ]
    },
    {
      "cell_type": "code",
      "execution_count": null,
      "id": "1478d745",
      "metadata": {
        "id": "1478d745"
      },
      "outputs": [],
      "source": [
        "N = (2*np.std(X)*1.96/0.01)**2 #estimamos el numero de corridas necesarias para obtener un intervalo de confianza con un error deseado"
      ]
    },
    {
      "cell_type": "code",
      "execution_count": null,
      "id": "fa6ae0ce",
      "metadata": {
        "id": "fa6ae0ce"
      },
      "outputs": [],
      "source": [
        "print(N)"
      ]
    },
    {
      "cell_type": "code",
      "source": [],
      "metadata": {
        "id": "Oq2F3plwHz_F"
      },
      "id": "Oq2F3plwHz_F",
      "execution_count": null,
      "outputs": []
    },
    {
      "cell_type": "markdown",
      "id": "a6d1c695",
      "metadata": {
        "id": "a6d1c695"
      },
      "source": [
        "### Podemos comparar con la sulución analítica del problema.\n",
        "\n",
        "Para ello usamos la teoría sobre la suma de variables con distribución normal."
      ]
    },
    {
      "cell_type": "code",
      "execution_count": null,
      "id": "7284bee0",
      "metadata": {
        "id": "7284bee0"
      },
      "outputs": [],
      "source": [
        "norm.cdf(-0.04, -0.02, 0.05) #calculamos la probabilidad teorica de interferencia usando la funcion de distribucion acumulativa de distribucion normal"
      ]
    },
    {
      "cell_type": "code",
      "execution_count": null,
      "id": "a1a842a2",
      "metadata": {
        "id": "a1a842a2"
      },
      "outputs": [],
      "source": [
        "norm.cdf(-0.04, -0.02, 0.05)-np.mean(Y)"
      ]
    }
  ],
  "metadata": {
    "kernelspec": {
      "display_name": "Python 3 (ipykernel)",
      "language": "python",
      "name": "python3"
    },
    "language_info": {
      "codemirror_mode": {
        "name": "ipython",
        "version": 3
      },
      "file_extension": ".py",
      "mimetype": "text/x-python",
      "name": "python",
      "nbconvert_exporter": "python",
      "pygments_lexer": "ipython3",
      "version": "3.7.3"
    },
    "colab": {
      "provenance": []
    }
  },
  "nbformat": 4,
  "nbformat_minor": 5
}