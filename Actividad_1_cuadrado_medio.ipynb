{
  "nbformat": 4,
  "nbformat_minor": 0,
  "metadata": {
    "colab": {
      "provenance": [],
      "authorship_tag": "ABX9TyPHOV75fl3k/waDHK0jNRkg",
      "include_colab_link": true
    },
    "kernelspec": {
      "name": "python3",
      "display_name": "Python 3"
    },
    "language_info": {
      "name": "python"
    }
  },
  "cells": [
    {
      "cell_type": "markdown",
      "metadata": {
        "id": "view-in-github",
        "colab_type": "text"
      },
      "source": [
        "<a href=\"https://colab.research.google.com/github/Janies-Garcia-Velasco/Simulaci-n-1/blob/main/Actividad_1_cuadrado_medio.ipynb\" target=\"_parent\"><img src=\"https://colab.research.google.com/assets/colab-badge.svg\" alt=\"Open In Colab\"/></a>"
      ]
    },
    {
      "cell_type": "markdown",
      "source": [
        "# Cuadrado medio\n"
      ],
      "metadata": {
        "id": "oiqDBUVd4VpP"
      }
    },
    {
      "cell_type": "code",
      "source": [
        "import sys\n",
        "import tabulate\n",
        "\n",
        "x=int(input(\"escriba un numero entero de 4 digitos: \"))\n",
        "m=int(input(\"numero de iteraciones: \"))\n",
        "resultados=[]\n",
        "n=1\n",
        "\n",
        "while n<m+1:\n",
        "  num=str(x)\n",
        "  if len(num)<=4:\n",
        "    x1=x**2\n",
        "    num1=str(x1)\n",
        "    numero=list(num1)\n",
        "\n",
        "    if len(numero)==8:\n",
        "      xlist=numero[2:6]\n",
        "      numfin=int(\"\".join(xlist))\n",
        "\n",
        "      #almacenar resultados en una lista, para la tabla\n",
        "      resultados.append([n,x,x1,numfin])\n",
        "      x=numfin\n",
        "      n=n+1\n",
        "    else:\n",
        "      xlist=numero[1:5]\n",
        "      numfin=int(\"\".join(xlist))\n",
        "\n",
        "      #almacenar resultados en una lista, para la tabla\n",
        "      resultados.append([n,x,x1,numfin])\n",
        "\n",
        "      x=numfin\n",
        "      n=n+1\n",
        "\n",
        "  else:\n",
        "    print(\"el numero ingresado no tiene los digitos solicitados\")\n",
        "    n=10\n",
        "\n",
        "#para imprimir tabla\n",
        "tabla=[\"N\",\"Xn\",\"Digito al cuadrado\",\"producto medio\"]\n",
        "print(tabulate.tabulate(resultados, headers=tabla, tablefmt=\"grid\"))"
      ],
      "metadata": {
        "id": "msWk5Ixe4VYJ",
        "colab": {
          "base_uri": "https://localhost:8080/"
        },
        "outputId": "80d830a4-1041-4da7-af61-86d2122a3c6f"
      },
      "execution_count": 83,
      "outputs": [
        {
          "output_type": "stream",
          "name": "stdout",
          "text": [
            "escriba un numero entero de 4 digitos: 2024\n",
            "numero de iteraciones: 10\n",
            "+-----+------+----------------------+------------------+\n",
            "|   N |   Xn |   Digito al cuadrado |   producto medio |\n",
            "+=====+======+======================+==================+\n",
            "|   1 | 2024 |              4096576 |              965 |\n",
            "+-----+------+----------------------+------------------+\n",
            "|   2 |  965 |               931225 |             3122 |\n",
            "+-----+------+----------------------+------------------+\n",
            "|   3 | 3122 |              9746884 |             7468 |\n",
            "+-----+------+----------------------+------------------+\n",
            "|   4 | 7468 |             55771024 |             7710 |\n",
            "+-----+------+----------------------+------------------+\n",
            "|   5 | 7710 |             59444100 |             4441 |\n",
            "+-----+------+----------------------+------------------+\n",
            "|   6 | 4441 |             19722481 |             7224 |\n",
            "+-----+------+----------------------+------------------+\n",
            "|   7 | 7224 |             52186176 |             1861 |\n",
            "+-----+------+----------------------+------------------+\n",
            "|   8 | 1861 |              3463321 |             4633 |\n",
            "+-----+------+----------------------+------------------+\n",
            "|   9 | 4633 |             21464689 |             4646 |\n",
            "+-----+------+----------------------+------------------+\n",
            "|  10 | 4646 |             21585316 |             5853 |\n",
            "+-----+------+----------------------+------------------+\n"
          ]
        }
      ]
    },
    {
      "cell_type": "markdown",
      "source": [],
      "metadata": {
        "id": "SptqGocaxSCW"
      }
    }
  ]
}