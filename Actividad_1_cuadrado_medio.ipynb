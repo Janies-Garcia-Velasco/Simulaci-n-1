{
  "nbformat": 4,
  "nbformat_minor": 0,
  "metadata": {
    "colab": {
      "provenance": [],
      "authorship_tag": "ABX9TyNsDgRqXJhNmHjucMqm/tjI",
      "include_colab_link": true
    },
    "kernelspec": {
      "name": "python3",
      "display_name": "Python 3"
    },
    "language_info": {
      "name": "python"
    }
  },
  "cells": [
    {
      "cell_type": "markdown",
      "metadata": {
        "id": "view-in-github",
        "colab_type": "text"
      },
      "source": [
        "<a href=\"https://colab.research.google.com/github/Janies-Garcia-Velasco/Simulaci-n-1/blob/main/Actividad_1_cuadrado_medio.ipynb\" target=\"_parent\"><img src=\"https://colab.research.google.com/assets/colab-badge.svg\" alt=\"Open In Colab\"/></a>"
      ]
    },
    {
      "cell_type": "markdown",
      "source": [
        "# Cuadrado medio\n"
      ],
      "metadata": {
        "id": "oiqDBUVd4VpP"
      }
    },
    {
      "cell_type": "code",
      "source": [
        "import sys\n",
        "import tabulate\n",
        "#pedir las variables uq ese van a trabajar\n",
        "x=int(input(\"escriba un numero entero de 4 digitos: \"))\n",
        "m=int(input(\"numero de iteraciones: \"))\n",
        "#creamos una lista donde se guardaran los resultados finales para la tabla\n",
        "resultados=[]\n",
        "n=1\n",
        "\n",
        "while n<m+1:#creando un bucle\n",
        "  num=str(x) #pasar la x a ser una cadena\n",
        "  if len(num)<=4:#evaluando si el numero es menos de cuatro digitos\n",
        "    x1=x**2#elevando al cuadrado\n",
        "    num1=str(x1)#convirtiendo el numero anterior en una cadena\n",
        "    numero=list(num1)#convirtiendolo en una lista\n",
        "\n",
        "    if len(numero)==8:#comprobando si el numero cuadrado es mayor a 8 digitos\n",
        "      xlist=numero[2:6]#tomando los valores mediois del numero\n",
        "      numfin=int(\"\".join(xlist))#convirtienedolo a un numero\n",
        "\n",
        "      #almacena los resultados en la lista antes creada llamada resultados, para hacer la tabla\n",
        "      resultados.append([n,x,x1,numfin])#añadiendo los numeros\n",
        "      x=numfin#para volver a hacer el bucle nuestra nueva x va a ser el numero que sacamos del medio del numero cuadrado\n",
        "      n=n+1#sumamos uno al n para el bucle\n",
        "    else:\n",
        "      xlist=numero[1:5]#si el cuadrado del numero inicial no es de 8 digitos entonces tomamos otro lugar en la lista de numeros para tomar el valor medio\n",
        "      numfin=int(\"\".join(xlist))#convertimos esa cadena en un numero\n",
        "\n",
        "      #almacenar resultados en una lista, para la tabla\n",
        "      resultados.append([n,x,x1,numfin])\n",
        "\n",
        "      x=numfin#para volver a hacer el bucle nuestra nueva x va a ser el numero que sacamos del medio del numero cuadrado\n",
        "      n=n+1#sumamos uno al n para el bucle\n",
        "\n",
        "  else:\n",
        "    print(\"el numero ingresado no tiene los digitos solicitados\")\n",
        "    n=10\n",
        "\n",
        "#para imprimir tabla\n",
        "tabla=[\"N\",\"Xn\",\"Digito al cuadrado\",\"producto medio\"]#encabezado de la tabla\n",
        "print(tabulate.tabulate(resultados, headers=tabla, tablefmt=\"grid\"))#le damos forma a la tabla"
      ],
      "metadata": {
        "id": "msWk5Ixe4VYJ",
        "colab": {
          "base_uri": "https://localhost:8080/"
        },
        "outputId": "feb65a4a-c772-4655-c6a4-9fe65c30005b"
      },
      "execution_count": null,
      "outputs": [
        {
          "output_type": "stream",
          "name": "stdout",
          "text": [
            "escriba un numero entero de 4 digitos: 2124\n",
            "numero de iteraciones: 10\n",
            "+-----+------+----------------------+------------------+\n",
            "|   N |   Xn |   Digito al cuadrado |   producto medio |\n",
            "+=====+======+======================+==================+\n",
            "|   1 | 2124 |              4511376 |             5113 |\n",
            "+-----+------+----------------------+------------------+\n",
            "|   2 | 5113 |             26142769 |             1427 |\n",
            "+-----+------+----------------------+------------------+\n",
            "|   3 | 1427 |              2036329 |              363 |\n",
            "+-----+------+----------------------+------------------+\n",
            "|   4 |  363 |               131769 |             3176 |\n",
            "+-----+------+----------------------+------------------+\n",
            "|   5 | 3176 |             10086976 |              869 |\n",
            "+-----+------+----------------------+------------------+\n",
            "|   6 |  869 |               755161 |             5516 |\n",
            "+-----+------+----------------------+------------------+\n",
            "|   7 | 5516 |             30426256 |             4262 |\n",
            "+-----+------+----------------------+------------------+\n",
            "|   8 | 4262 |             18164644 |             1646 |\n",
            "+-----+------+----------------------+------------------+\n",
            "|   9 | 1646 |              2709316 |             7093 |\n",
            "+-----+------+----------------------+------------------+\n",
            "|  10 | 7093 |             50310649 |             3106 |\n",
            "+-----+------+----------------------+------------------+\n"
          ]
        }
      ]
    },
    {
      "cell_type": "markdown",
      "source": [],
      "metadata": {
        "id": "SptqGocaxSCW"
      }
    }
  ]
}