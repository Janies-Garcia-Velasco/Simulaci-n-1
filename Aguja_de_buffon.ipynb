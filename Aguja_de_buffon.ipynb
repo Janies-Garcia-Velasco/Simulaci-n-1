{
  "nbformat": 4,
  "nbformat_minor": 0,
  "metadata": {
    "colab": {
      "provenance": [],
      "authorship_tag": "ABX9TyP3UMGbhmzJKA9BBixnCuQI",
      "include_colab_link": true
    },
    "kernelspec": {
      "name": "python3",
      "display_name": "Python 3"
    },
    "language_info": {
      "name": "python"
    }
  },
  "cells": [
    {
      "cell_type": "markdown",
      "metadata": {
        "id": "view-in-github",
        "colab_type": "text"
      },
      "source": [
        "<a href=\"https://colab.research.google.com/github/Janies-Garcia-Velasco/Simulaci-n-1/blob/main/Aguja_de_buffon.ipynb\" target=\"_parent\"><img src=\"https://colab.research.google.com/assets/colab-badge.svg\" alt=\"Open In Colab\"/></a>"
      ]
    },
    {
      "cell_type": "markdown",
      "source": [
        "otra forma de ver el metodo de estimacion de pi"
      ],
      "metadata": {
        "id": "uJV6SNmmwtmm"
      }
    },
    {
      "cell_type": "markdown",
      "source": [
        "#Solucion analitica\n"
      ],
      "metadata": {
        "id": "BPwgZfLZw6V-"
      }
    },
    {
      "cell_type": "markdown",
      "source": [
        "Planteamiento del problema:\n",
        "\n",
        "* Tienes líneas paralelas separadas por una distancia $d$.\n",
        "\n",
        "* La aguja tiene una longitud $l$, donde $l≤d$.\n",
        "\n",
        "* La aguja es lanzada al azar y se desea calcular la probabilidad\n",
        "$P$ de que intersecte alguna línea.\n",
        "\n",
        "Fórmula de solución:\n",
        "\n",
        "La probabilidad\n",
        "$P$ de que la aguja intersecte alguna línea está dada por:\n",
        "\n",
        "$P=\\frac{2l}{\\pi d}$\n",
        "\n",
        "Explicación:\n",
        "\n",
        "* Si $l>d$, la probabilidad será\n",
        "1, ya que la aguja siempre intersectará al menos una línea.\n",
        "\n",
        "* Para $l≤d$, la probabilidad se calcula usando la fórmula mencionada."
      ],
      "metadata": {
        "id": "lrypPqb4w_Ft"
      }
    },
    {
      "cell_type": "markdown",
      "source": [
        "# Ejemplo"
      ],
      "metadata": {
        "id": "BV3fvorhyQb_"
      }
    },
    {
      "cell_type": "markdown",
      "source": [
        "Supongamos que tenemos las siguientes condiciones:\n",
        "\n",
        "* Distancia entre líneas paralelas\n",
        "$d=3$ unidades.\n",
        "\n",
        "* Longitud de la aguja $l=2$ unidades.\n",
        "\n",
        "Para resolverlo analíticamente, utilizamos la fórmula:\n",
        "\n",
        "$$P=\\frac{2l}{πd}$$\n",
        "\n",
        "Sustituyendo los valores dados:\n",
        "\n",
        "$$P=\\frac{2\\cdot 2}{\\pi \\cdot 3}=\\frac{4}{3\\pi}\\approx 0.424$$\n",
        "\n",
        "Por lo tanto, la probabilidad analítica de que la aguja intersecte alguna línea es aproximadamente $0.424$."
      ],
      "metadata": {
        "id": "smG1VKeTySy-"
      }
    },
    {
      "cell_type": "markdown",
      "source": [
        "# Solucion por simulacion"
      ],
      "metadata": {
        "id": "M00YmIE3x-St"
      }
    },
    {
      "cell_type": "code",
      "source": [
        "import random\n",
        "import math\n",
        "\n",
        "def estimar_pi_buffon(num_agujas, longitud_aguja, distancia_lineas):\n",
        "    hits = 0\n",
        "\n",
        "    for _ in range(num_agujas):\n",
        "        # Generar posición aleatoria del centro de la aguja\n",
        "        x_centro = random.uniform(0, distancia_lineas / 2)\n",
        "        # Generar ángulo aleatorio entre 0 y pi/2 (radianes)\n",
        "        theta = random.uniform(0, math.pi / 2)\n",
        "\n",
        "        # Calcular la posición del extremo de la aguja\n",
        "        x_extremo = x_centro - (longitud_aguja / 2) * math.cos(theta)\n",
        "\n",
        "        # Verificar si la aguja intersecta alguna línea\n",
        "        if x_extremo < 0:\n",
        "            hits += 1\n",
        "\n",
        "    # Calcular la probabilidad estimada\n",
        "    if num_agujas > 0:\n",
        "        probabilidad_estimada = hits / num_agujas\n",
        "    else:\n",
        "        probabilidad_estimada = 0\n",
        "\n",
        "    # Estimar pi\n",
        "    if probabilidad_estimada > 0:\n",
        "        pi_estimado = 2 * longitud_aguja / (probabilidad_estimada * distancia_lineas)\n",
        "    else:\n",
        "        pi_estimado = float('inf')  # Evitar división por cero\n",
        "\n",
        "    return pi_estimado\n",
        "\n",
        "# Parámetros de la simulación\n",
        "num_agujas = 1000000    # Número de agujas lanzadas\n",
        "longitud_aguja = 1.0    # Longitud de la aguja (usualmente l = d)\n",
        "distancia_lineas = 2.0  # Distancia entre líneas paralelas\n",
        "\n",
        "# Ejecutar la simulación\n",
        "pi_estimado = estimar_pi_buffon(num_agujas, longitud_aguja, distancia_lineas)\n",
        "print(f\"Valor estimado de pi (simulación): {pi_estimado}\")\n"
      ],
      "metadata": {
        "colab": {
          "base_uri": "https://localhost:8080/"
        },
        "id": "HL_8thN90c7-",
        "outputId": "3d4bb88d-c04c-4019-f769-c5ec47e48a46"
      },
      "execution_count": 2,
      "outputs": [
        {
          "output_type": "stream",
          "name": "stdout",
          "text": [
            "Valor estimado de pi (simulación): 3.1404766615476896\n"
          ]
        }
      ]
    }
  ]
}