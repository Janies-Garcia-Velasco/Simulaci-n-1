{
  "nbformat": 4,
  "nbformat_minor": 0,
  "metadata": {
    "colab": {
      "provenance": []
    },
    "kernelspec": {
      "name": "python3",
      "display_name": "Python 3"
    },
    "language_info": {
      "name": "python"
    }
  },
  "cells": [
    {
      "cell_type": "markdown",
      "source": [
        "# Cuadrado medio\n"
      ],
      "metadata": {
        "id": "oiqDBUVd4VpP"
      }
    },
    {
      "cell_type": "code",
      "source": [
        "import sys\n",
        "import tabulate\n",
        "\n",
        "#pedir semilla\n",
        "x=int(input(\"escriba un numero entero de 4 digitos: \"))\n",
        "m=int(input(\"numero de iteraciones: \"))#numero de iteraciones\n",
        "resultados=[]#creacion de lista para tabular\n",
        "n=1#para bucle\n",
        "\n",
        "while n<m+1:#el bucle se repetira el numero de iteraciones\n",
        "  num=str(x)#convertir semilla a cadena\n",
        "  if len(num)==4:#la semilla debe tener 4 digitos\n",
        "    x1=x**2#se eleva al cuadrado\n",
        "    num1=str(x1)#se cinvierte a cadena\n",
        "    numero=list(num1)#se convierte en lista\n",
        "\n",
        "    if len(numero)==8:#el nuevo numero debe tener 8 digitos\n",
        "      xlist=numero[2:6]#extraer los numero medios\n",
        "      numfin=int(\"\".join(xlist))#pasar a numero entero\n",
        "\n",
        "      #almacenar resultados en una lista, para la tabla\n",
        "      resultados.append([n,x,x1,numfin])\n",
        "      x=numfin#ahora el numero medio va a pasar a tomar el lugar de la semilla\n",
        "      n=n+1#para que el bucle tenga fin\n",
        "    else:\n",
        "      xlist=numero[1:5]#en caso de tener menos de 8 digitos se toma un intervalo diferente de numeros\n",
        "      numfin=int(\"\".join(xlist))#pasar a numero, ya que era cadena\n",
        "\n",
        "      #almacenar resultados en una lista, para la tabla\n",
        "      resultados.append([n,x,x1,numfin])\n",
        "\n",
        "      x=numfin#el numero toma el lugar de la semilla\n",
        "      n=n+1#para que el bucle tenga fin\n",
        "\n",
        "  else:\n",
        "    print(\"el numero ingresado no tiene los digitos solicitados\")\n",
        "    n=10\n",
        "\n",
        "#para imprimir tabla\n",
        "tabla=[\"N\",\"Xn\",\"Digito al cuadrado\",\"producto medio\"]\n",
        "print(tabulate.tabulate(resultados, headers=tabla, tablefmt=\"grid\"))"
      ],
      "metadata": {
        "id": "msWk5Ixe4VYJ",
        "colab": {
          "base_uri": "https://localhost:8080/"
        },
        "outputId": "feb65a4a-c772-4655-c6a4-9fe65c30005b"
      },
      "execution_count": null,
      "outputs": [
        {
          "output_type": "stream",
          "name": "stdout",
          "text": [
            "escriba un numero entero de 4 digitos: 2124\n",
            "numero de iteraciones: 10\n",
            "+-----+------+----------------------+------------------+\n",
            "|   N |   Xn |   Digito al cuadrado |   producto medio |\n",
            "+=====+======+======================+==================+\n",
            "|   1 | 2124 |              4511376 |             5113 |\n",
            "+-----+------+----------------------+------------------+\n",
            "|   2 | 5113 |             26142769 |             1427 |\n",
            "+-----+------+----------------------+------------------+\n",
            "|   3 | 1427 |              2036329 |              363 |\n",
            "+-----+------+----------------------+------------------+\n",
            "|   4 |  363 |               131769 |             3176 |\n",
            "+-----+------+----------------------+------------------+\n",
            "|   5 | 3176 |             10086976 |              869 |\n",
            "+-----+------+----------------------+------------------+\n",
            "|   6 |  869 |               755161 |             5516 |\n",
            "+-----+------+----------------------+------------------+\n",
            "|   7 | 5516 |             30426256 |             4262 |\n",
            "+-----+------+----------------------+------------------+\n",
            "|   8 | 4262 |             18164644 |             1646 |\n",
            "+-----+------+----------------------+------------------+\n",
            "|   9 | 1646 |              2709316 |             7093 |\n",
            "+-----+------+----------------------+------------------+\n",
            "|  10 | 7093 |             50310649 |             3106 |\n",
            "+-----+------+----------------------+------------------+\n"
          ]
        }
      ]
    },
    {
      "cell_type": "markdown",
      "source": [],
      "metadata": {
        "id": "SptqGocaxSCW"
      }
    }
  ]
}