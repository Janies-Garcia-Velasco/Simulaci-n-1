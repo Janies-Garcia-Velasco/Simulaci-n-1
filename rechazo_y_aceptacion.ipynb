{
  "nbformat": 4,
  "nbformat_minor": 0,
  "metadata": {
    "colab": {
      "provenance": [],
      "authorship_tag": "ABX9TyPKQ0X3I4J530GRfwv8DgyQ",
      "include_colab_link": true
    },
    "kernelspec": {
      "name": "python3",
      "display_name": "Python 3"
    },
    "language_info": {
      "name": "python"
    }
  },
  "cells": [
    {
      "cell_type": "markdown",
      "metadata": {
        "id": "view-in-github",
        "colab_type": "text"
      },
      "source": [
        "<a href=\"https://colab.research.google.com/github/Janies-Garcia-Velasco/Simulaci-n-1/blob/main/rechazo_y_aceptacion.ipynb\" target=\"_parent\"><img src=\"https://colab.research.google.com/assets/colab-badge.svg\" alt=\"Open In Colab\"/></a>"
      ]
    },
    {
      "cell_type": "code",
      "execution_count": 1,
      "metadata": {
        "colab": {
          "base_uri": "https://localhost:8080/",
          "height": 576
        },
        "id": "316U1CzaW_4P",
        "outputId": "7946de2d-7c6b-4107-f927-a21448f51aae"
      },
      "outputs": [
        {
          "output_type": "execute_result",
          "data": {
            "text/plain": [
              "(array([ 7., 19., 25., 32., 32., 51., 44., 43., 46., 29., 31., 27., 23.,\n",
              "        31.,  8., 15., 14.,  6.,  8.,  3.]),\n",
              " array([0.00484046, 0.04423577, 0.08363108, 0.1230264 , 0.16242171,\n",
              "        0.20181703, 0.24121234, 0.28060765, 0.32000297, 0.35939828,\n",
              "        0.39879359, 0.43818891, 0.47758422, 0.51697954, 0.55637485,\n",
              "        0.59577016, 0.63516548, 0.67456079, 0.71395611, 0.75335142,\n",
              "        0.79274673]),\n",
              " <BarContainer object of 20 artists>)"
            ]
          },
          "metadata": {},
          "execution_count": 1
        },
        {
          "output_type": "display_data",
          "data": {
            "text/plain": [
              "<Figure size 640x480 with 1 Axes>"
            ],
            "image/png": "[encoded data removed]"
          },
          "metadata": {}
        }
      ],
      "source": [
        "import numpy as np\n",
        "import random as rnd\n",
        "import matplotlib.pyplot as plt\n",
        "\n",
        "ly=[]\n",
        "lx=[]\n",
        "\n",
        "n=1000\n",
        "c=135/64\n",
        "\n",
        "def f(x):\n",
        "  return 20 * x * (1-x) ** 3\n",
        "\n",
        "def g(x):\n",
        "  return 1 #nos dice que es distribucion uniforme\n",
        "\n",
        "\n",
        "i=0\n",
        "while i<=n-1:\n",
        "  y=rnd.uniform(0,1)\n",
        "  u=rnd.uniform(0,1)\n",
        "  if u<=(f(y))/(c):\n",
        "    lx.append(y)\n",
        "  i+=1\n",
        "\n",
        "plt.hist(lx,bins=20)"
      ]
    }
  ]
}