{
  "nbformat": 4,
  "nbformat_minor": 0,
  "metadata": {
    "colab": {
      "provenance": [],
      "authorship_tag": "ABX9TyNgjESo6mOptzlU/kUmDLUO",
      "include_colab_link": true
    },
    "kernelspec": {
      "name": "python3",
      "display_name": "Python 3"
    },
    "language_info": {
      "name": "python"
    }
  },
  "cells": [
    {
      "cell_type": "markdown",
      "metadata": {
        "id": "view-in-github",
        "colab_type": "text"
      },
      "source": [
        "<a href=\"https://colab.research.google.com/github/Janies-Garcia-Velasco/Simulaci-n-1/blob/main/Chi_cuadrada.ipynb\" target=\"_parent\"><img src=\"https://colab.research.google.com/assets/colab-badge.svg\" alt=\"Open In Colab\"/></a>"
      ]
    },
    {
      "cell_type": "code",
      "execution_count": 5,
      "metadata": {
        "colab": {
          "base_uri": "https://localhost:8080/"
        },
        "id": "BlG5wLbSdt1L",
        "outputId": "be2e0780-0bc4-4b44-d694-60e04ede3fed"
      },
      "outputs": [
        {
          "output_type": "stream",
          "name": "stdout",
          "text": [
            "si es uniforme\n",
            "+----------+------+------+---------+----------------+\n",
            "| Clases   |   Oi |   Ei |   Oi-Ei |   (Oi-Ei)^2/Ei |\n",
            "+==========+======+======+=========+================+\n",
            "| 0-0.19   |   20 |   20 |       0 |           0    |\n",
            "+----------+------+------+---------+----------------+\n",
            "| 0.2-0.39 |   18 |   20 |      -2 |           0.2  |\n",
            "+----------+------+------+---------+----------------+\n",
            "| 0.4-0.59 |   21 |   20 |       1 |           0.05 |\n",
            "+----------+------+------+---------+----------------+\n",
            "| 0.6-0.79 |   21 |   20 |       1 |           0.05 |\n",
            "+----------+------+------+---------+----------------+\n",
            "| 0.8-0.99 |   20 |   20 |       0 |           0    |\n",
            "+----------+------+------+---------+----------------+\n"
          ]
        }
      ],
      "source": [
        "import numpy as np\n",
        "import openpyxl\n",
        "from tabulate import tabulate\n",
        "import tabulate\n",
        "\n",
        "#H0= la prueba es uniforme\n",
        "#es importante subir el excel con los datos al apartado de archivos en github\n",
        "num_muestra=openpyxl.load_workbook(\"muestra2.xlsx\")#se manda a llamar al excel para leerlo desde los archivos de github\n",
        "muestra=num_muestra.active#activamos la linea de arriba y la guardamos en una variable llamada muestra\n",
        "m=0#para el bucle\n",
        "\n",
        "#creacion de las tabloas para las clases\n",
        "tabla1=[]\n",
        "tabla2=[]\n",
        "tabla3=[]\n",
        "tabla4=[]\n",
        "tabla5=[]\n",
        "\n",
        "#creacion de la lista para la tabla\n",
        "lista=[]\n",
        "#lista para guaradar los valores de x\n",
        "chi=[]\n",
        "\n",
        "for row in range(0,muestra.max_row):#leer las filas del excel\n",
        "  for col in muestra.iter_cols(1, muestra.max_column):#leer columna de excel\n",
        "\n",
        "    x=(col[row].value)#darle valor a la x con la celda leida\n",
        "\n",
        "    #quitar los signos de puntuacion de comas por puntos\n",
        "    if isinstance(x,str):#\n",
        "      x=x.replace(\",\",\".\")\n",
        "    try:\n",
        "      x=float(x)\n",
        "    except ValueError:\n",
        "      continue\n",
        "\n",
        "    #separar por clases\n",
        "    if 0<=x<=0.1999:\n",
        "      tabla1.append(x)\n",
        "      chi.append(x)\n",
        "\n",
        "    elif 0.2<=x<=0.3999:\n",
        "      tabla2.append(x)\n",
        "      chi.append(x)\n",
        "\n",
        "    elif 0.4<=x<=0.5999:\n",
        "      tabla3.append(x)\n",
        "      chi.append(x)\n",
        "\n",
        "    elif 0.6<=x<=0.7999:\n",
        "      tabla4.append(x)\n",
        "      chi.append(x)\n",
        "\n",
        "    else:\n",
        "      tabla5.append(x)\n",
        "      chi.append(x)\n",
        "\n",
        "Ei=len(chi)/5\n",
        "\n",
        "#definir la frecuencia\n",
        "def Oi(x):\n",
        "  return len(x)\n",
        "\n",
        "#definir la frecuencia menos la frecuencia esperada\n",
        "def dif(x):\n",
        "  return Oi(x)-Ei\n",
        "\n",
        "#definir la division de la fierencia entre dif cuadrada entre frecuencia esperada\n",
        "def dif_div(x):\n",
        "  n=dif(x)**2\n",
        "  return round(n/Ei,2)\n",
        "\n",
        "#calculamos la chi cuadrada\n",
        "chi_cuadrada=(((Oi(tabla1)-Ei)**2)/Ei)+(((Oi(tabla2)-Ei)**2)/Ei)+(((Oi(tabla3)-Ei)**2)/Ei)+(((Oi(tabla4)-Ei)**2)/Ei)+(((Oi(tabla5)-Ei)**2)/Ei)\n",
        "\n",
        "#para calcular el estadistico\n",
        "suma=dif_div(tabla1)+dif_div(tabla2)+dif_div(tabla3)+dif_div(tabla4)+dif_div(tabla5)\n",
        "\n",
        "#estadistico calculado por tabla\n",
        "estadistico=0.5\n",
        "\n",
        "#para aceptar o no la hipotesis nula\n",
        "if estadistico>chi_cuadrada:\n",
        "  print(\"si es uniforme\")\n",
        "else:\n",
        "  print(\"no es uniforme\")\n",
        "\n",
        "#para la tabla se manda a llamar las funciones y evaluarlas respecto a cada tabla dependiendo las clases\n",
        "lista.append([\"0-0.19\",Oi(tabla1),Ei,dif(tabla1),dif_div(tabla1)])\n",
        "lista.append([\"0.2-0.39\",Oi(tabla2),Ei,dif(tabla2),dif_div(tabla2)])\n",
        "lista.append([\"0.4-0.59\",Oi(tabla3),Ei,dif(tabla3),dif_div(tabla3)])\n",
        "lista.append([\"0.6-0.79\",Oi(tabla4),Ei,dif(tabla4),dif_div(tabla4)])\n",
        "lista.append([\"0.8-0.99\",Oi(tabla5),Ei,dif(tabla5),dif_div(tabla5)])\n",
        "\n",
        "#para hacer la tabla\n",
        "tabla=[\"Clases\",\"Oi\",\"Ei\",\"Oi-Ei\",\"(Oi-Ei)^2/Ei\"]\n",
        "print(tabulate.tabulate(lista, headers=tabla, tablefmt=\"grid\"))\n"
      ]
    }
  ]
}