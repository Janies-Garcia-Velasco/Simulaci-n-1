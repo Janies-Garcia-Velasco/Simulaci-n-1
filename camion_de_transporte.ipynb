{
  "nbformat": 4,
  "nbformat_minor": 0,
  "metadata": {
    "colab": {
      "provenance": [],
      "authorship_tag": "ABX9TyPVVXonPeA+CTzD4UzyqTeu",
      "include_colab_link": true
    },
    "kernelspec": {
      "name": "python3",
      "display_name": "Python 3"
    },
    "language_info": {
      "name": "python"
    }
  },
  "cells": [
    {
      "cell_type": "markdown",
      "metadata": {
        "id": "view-in-github",
        "colab_type": "text"
      },
      "source": [
        "<a href=\"https://colab.research.google.com/github/Janies-Garcia-Velasco/Simulaci-n-1/blob/main/camion_de_transporte.ipynb\" target=\"_parent\"><img src=\"https://colab.research.google.com/assets/colab-badge.svg\" alt=\"Open In Colab\"/></a>"
      ]
    },
    {
      "cell_type": "markdown",
      "source": [
        "# Problema 1\n",
        "\n",
        "a) Analiticamente"
      ],
      "metadata": {
        "id": "Q9m-ppu-Parv"
      }
    },
    {
      "cell_type": "markdown",
      "source": [
        "calculamos la probabilidad de que el peso total de cinco tintas exceda la capacidad del camion, que es de una tonelada (1000kg)."
      ],
      "metadata": {
        "id": "PZ1ONFhWPIiW"
      }
    },
    {
      "cell_type": "code",
      "source": [],
      "metadata": {
        "id": "Knu0wxOgaBVP"
      },
      "execution_count": null,
      "outputs": []
    },
    {
      "cell_type": "markdown",
      "source": [
        "## 1. Definamos la distribucion de probabilidad del peso de una tina:\n",
        "\n",
        "la densidad de probabilidad de una distribucion triangulat esta dada por\n",
        "\n",
        "\n",
        "\n",
        "$$f(x)=\\begin{cases}\n",
        "\\frac{2(x−a)}{(b−a)(c−a)} & para & a\\leq x< c \\\\ \\\\ \\frac{2(b-x)}{(b-a)(b-c)} &para & c\\leq x \\leq b \\end{cases}$$\n",
        "\n",
        "donde podemos decir que $a=190 kg$, $b=230kg$ y $c=210kg$.\n",
        "\n",
        "y $f(c)=\\frac{1}{20}$\n",
        "\n",
        "esto podemos verlo por la grafica dada en el problema\n",
        "\n",
        "## calculamos la media y la varianza de esta distribucion\n",
        "\n",
        "la media ($\\mu$) y la varianza ($\\sigma^2$)\n",
        "\n",
        "con los parametros dados tenemos:\n",
        "\n",
        "$\\mu=\\frac{a+b+c}{3}=\\frac{190+230+210}{3}=210kg$\n",
        "\n",
        "$\\sigma^2=\\frac{a^2+b^2+c^2-ab-ac-bc}{18}=\\frac{190^2+230^2+210^2-190\\cdot 230-190 \\cdot 210-230 \\cdot 210}{18}\\approx 54.34kg$\n",
        "\n",
        "## Distribucion del peso total de las cinco tintas\n",
        "\n",
        "Diremos que **Y** es el peso total de las 5 tinas. Ya que cada tina tiene una distribucion triangular identica e independiente, la media y la varianza del peso total serán\n",
        "\n",
        "$\\mu_{Y}=5\\mu=5\\times 210= 1050kg$\n",
        "\n",
        "$\\sigma_{Y}^{2}=5\\sigma^2=5\\times 2845.1556=14225.778$\n",
        "\n",
        "$\\sigma_{Y}=\\sqrt{14225.778}\\approx 119.272kg$\n",
        "\n",
        "## Calculamos la probabilidad de que el peso total exceda 1000kg:\n",
        "\n",
        "Vamos a hacer el el calculo de $P(Y>1000)$. Supongamos que tiene una distribucion normal tenemos que calcular:\n",
        "\n",
        "$$Z=\\frac{Y-\\mu_{Y}}{\\sigma_{Y}}$$\n",
        "\n",
        "tenemos entonces:\n",
        "\n",
        "$P(Y>1000)=P\\big(Z>\\frac{1000-1050}{119.27}\\big)=P(Z>-0.419)$\n",
        "\n",
        "Utilizando la tabla de distribucion normal estandar:\n",
        "\n",
        "$P(Z>-0.419)=1-P(Z\\leq -0.419)$\n",
        "\n",
        "Por simetria de distribucion normal:\n",
        "\n",
        "$P(Z\\leq-0.419)=P(Z\\geq 0.419)$\n",
        "\n",
        "de la tabla, $P(Z\\leq 0.419)\\approx 0.662$\n",
        "\n",
        "$$P(Z\\geq 0.419)=1-0.662=0.338$$\n",
        "\n",
        "Por lo que la probabilidad de que el peso de las cinco tinas exceda la capacidad del camion es aproximadamente 0.338\n",
        "\n",
        "por tanto la probabilidad es de 33.8%"
      ],
      "metadata": {
        "id": "FMi0LVkuPe9G"
      }
    },
    {
      "cell_type": "markdown",
      "source": [
        "b) Por simulacion"
      ],
      "metadata": {
        "id": "lnowVnCecNha"
      }
    },
    {
      "cell_type": "code",
      "source": [
        "import numpy as np\n",
        "\n",
        "# Parámetros de la distribución triangular\n",
        "a = 190\n",
        "c = 210\n",
        "b = 230\n",
        "num_simulaciones = 10000  # Número de simulaciones\n",
        "\n",
        "# Función para generar un valor aleatorio de una distribución triangular\n",
        "def valor_aleatorio_triangular(a, c, b):\n",
        "    F = (c - a) / (b - a)\n",
        "    rand = np.random.rand()\n",
        "    if rand < F:\n",
        "        return a + np.sqrt(rand * (b - a) * (c - a))\n",
        "    else:\n",
        "        return b - np.sqrt((1 - rand) * (b - a) * (b - c))\n",
        "\n",
        "# Contador de casos en los que el total excede la capacidad del camión\n",
        "contador_excede_capacidad = 0\n",
        "\n",
        "# Realizar simulaciones\n",
        "for _ in range(num_simulaciones):\n",
        "    total = 0\n",
        "    for _ in range(5):  # Simular 5 tinas\n",
        "        total += valor_aleatorio_triangular(a, c, b)\n",
        "    if total > 1000:  # Verificar si el total excede 1000 kg\n",
        "        contador_excede_capacidad += 1\n",
        "\n",
        "# Calcular la probabilidad\n",
        "probabilidad = contador_excede_capacidad / num_simulaciones\n",
        "\n",
        "print(f'La probabilidad de que el total de las tinas exceda la capacidad del camión es aproximadamente {probabilidad:.4f}')\n"
      ],
      "metadata": {
        "id": "Nb2pOikVgKXx"
      },
      "execution_count": null,
      "outputs": []
    }
  ]
}