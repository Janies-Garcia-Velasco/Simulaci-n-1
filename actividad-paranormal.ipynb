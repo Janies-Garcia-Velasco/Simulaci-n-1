{
  "nbformat": 4,
  "nbformat_minor": 0,
  "metadata": {
    "colab": {
      "provenance": [],
      "authorship_tag": "ABX9TyNtoTurhvLkP7N2k3QaC05b",
      "include_colab_link": true
    },
    "kernelspec": {
      "name": "python3",
      "display_name": "Python 3"
    },
    "language_info": {
      "name": "python"
    }
  },
  "cells": [
    {
      "cell_type": "markdown",
      "metadata": {
        "id": "view-in-github",
        "colab_type": "text"
      },
      "source": [
        "<a href=\"https://colab.research.google.com/github/Janies-Garcia-Velasco/Simulaci-n-1/blob/main/actividad-paranormal.ipynb\" target=\"_parent\"><img src=\"https://colab.research.google.com/assets/colab-badge.svg\" alt=\"Open In Colab\"/></a>"
      ]
    },
    {
      "cell_type": "code",
      "source": [
        "# Este programa fue hecho por Janis\n",
        "\n",
        "import tabulate\n",
        "\n",
        "#pedir semilla\n",
        "x=int(input(\"escriba un numero entero de 4 digitos: \"))\n",
        "print(x)\n",
        "m=int(input(\"numero de iteraciones: \"))#numero de iteraciones\n",
        "resultados=[]#creacion de lista para tabular\n",
        "n=1#para bucle\n",
        "\n",
        "while n<m+1:#el bucle se repetira el numero de iteraciones\n",
        "  num=str(x)#convertir semilla a cadena\n",
        "  if len(num)==4:#la semilla debe tener 4 digitos\n",
        "    x1=x**2#se eleva al cuadrado\n",
        "    num1=str(x1)#se cinvierte a cadena\n",
        "    numero=list(num1)#se convierte en lista\n",
        "\n",
        "    if len(numero)==8:#el nuevo numero debe tener 8 digitos\n",
        "      xlist=numero[2:6]#extraer los numero medios\n",
        "      numfin=int(\"\".join(xlist))#pasar a numero entero\n",
        "      #almacenar resultados en una lista, para la tabla\n",
        "      resultados.append([n,x,x1,numfin])\n",
        "      x=numfin#ahora el numero medio va a pasar a tomar el lugar de la semilla\n",
        "      n=n+1#para que el bucle tenga fin\n",
        "    else:\n",
        "      xlist=numero[1:5]#en caso de tener menos de 8 digitos se toma un intervalo diferente de numeros\n",
        "      numfin=int(\"\".join(xlist))#pasar a numero, ya que era cadena\n",
        "\n",
        "      #almacenar resultados en una lista, para la tabla\n",
        "      resultados.append([n,x,x1,numfin])\n",
        "\n",
        "      x=numfin#el numero toma el lugar de la semilla\n",
        "      n=n+1#para que el bucle tenga fin\n",
        "\n",
        "  else:\n",
        "    print(\"el numero ingresado no tiene los digitos solicitados\")\n",
        "    n=10\n",
        "\n",
        "#para imprimir tabla\n",
        "tabla=[\"N\",\"Xn\",\"Digito al cuadrado\",\"producto medio\"]\n",
        "print(tabulate.tabulate(resultados, headers=tabla, tablefmt=\"grid\"))\n",
        "\n",
        "\n"
      ],
      "metadata": {
        "id": "JvpoWw-gn9Oa",
        "colab": {
          "base_uri": "https://localhost:8080/"
        },
        "outputId": "5a80e876-2151-4fbd-a787-d18b7f0928cf"
      },
      "execution_count": 4,
      "outputs": [
        {
          "output_type": "stream",
          "name": "stdout",
          "text": [
            "escriba un numero entero de 4 digitos: 1234\n",
            "1234\n",
            "numero de iteraciones: 5\n",
            "+-----+------+----------------------+------------------+\n",
            "|   N |   Xn |   Digito al cuadrado |   producto medio |\n",
            "+=====+======+======================+==================+\n",
            "|   1 | 1234 |              1522756 |             5227 |\n",
            "+-----+------+----------------------+------------------+\n",
            "|   2 | 5227 |             27321529 |             3215 |\n",
            "+-----+------+----------------------+------------------+\n",
            "|   3 | 3215 |             10336225 |             3362 |\n",
            "+-----+------+----------------------+------------------+\n",
            "|   4 | 3362 |             11303044 |             3030 |\n",
            "+-----+------+----------------------+------------------+\n",
            "|   5 | 3030 |              9180900 |             1809 |\n",
            "+-----+------+----------------------+------------------+\n"
          ]
        }
      ]
    },
    {
      "cell_type": "code",
      "execution_count": null,
      "metadata": {
        "id": "MgbO7b_0mMjb"
      },
      "outputs": [],
      "source": []
    }
  ]
}