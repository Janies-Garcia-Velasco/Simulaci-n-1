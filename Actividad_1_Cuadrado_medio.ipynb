{
  "nbformat": 4,
  "nbformat_minor": 0,
  "metadata": {
    "colab": {
      "provenance": [],
      "authorship_tag": "ABX9TyNzH8lYd5vLeOWdwlL6BrZ1",
      "include_colab_link": true
    },
    "kernelspec": {
      "name": "python3",
      "display_name": "Python 3"
    },
    "language_info": {
      "name": "python"
    }
  },
  "cells": [
    {
      "cell_type": "markdown",
      "metadata": {
        "id": "view-in-github",
        "colab_type": "text"
      },
      "source": [
        "<a href=\"https://colab.research.google.com/github/Janies-Garcia-Velasco/Simulaci-n-1/blob/main/Actividad_1_Cuadrado_medio.ipynb\" target=\"_parent\"><img src=\"https://colab.research.google.com/assets/colab-badge.svg\" alt=\"Open In Colab\"/></a>"
      ]
    },
    {
      "cell_type": "code",
      "execution_count": 2,
      "metadata": {
        "colab": {
          "base_uri": "https://localhost:8080/"
        },
        "id": "TzABcGKIaDca",
        "outputId": "53354fee-afa6-451b-fbe2-a5836802e257"
      },
      "outputs": [
        {
          "output_type": "stream",
          "name": "stdout",
          "text": [
            "escriba un numero de 4 digitos: 1234\n",
            "numero de iteraciones: 10\n",
            "el numero ingresado no tiene los digitos suficientes\n",
            "+-----+------+----------------------+------------------+\n",
            "|   N |   Xn |   Digito al cuadrado |   producto medio |\n",
            "+=====+======+======================+==================+\n",
            "|   1 | 1234 |              1522756 |             5227 |\n",
            "+-----+------+----------------------+------------------+\n",
            "|   2 | 5227 |             27321529 |             3215 |\n",
            "+-----+------+----------------------+------------------+\n",
            "|   3 | 3215 |             10336225 |             3362 |\n",
            "+-----+------+----------------------+------------------+\n",
            "|   4 | 3362 |             11303044 |             3030 |\n",
            "+-----+------+----------------------+------------------+\n",
            "|   5 | 3030 |              9180900 |             1809 |\n",
            "+-----+------+----------------------+------------------+\n",
            "|   6 | 1809 |              3272481 |             2724 |\n",
            "+-----+------+----------------------+------------------+\n",
            "|   7 | 2724 |              7420176 |             4201 |\n",
            "+-----+------+----------------------+------------------+\n",
            "|   8 | 4201 |             17648401 |             6484 |\n",
            "+-----+------+----------------------+------------------+\n",
            "|   9 | 6484 |             42042256 |              422 |\n",
            "+-----+------+----------------------+------------------+\n"
          ]
        }
      ],
      "source": [
        "import tabulate\n",
        "\n",
        "#pedir semilla\n",
        "x=int(input(\"escriba un numero de 4 digitos: \"))\n",
        "m=int(input(\"numero de iteraciones: \"))#numero de iteraciones\n",
        "resultados=[]#creacion de lista a tabular\n",
        "n=1#para bucle\n",
        "\n",
        "while n<m+1: #el bucle se repetira el numero de iteraciones\n",
        "  num=str(x)#convertir semilla a cadena\n",
        "  if len(num)==4:#la semilla debe tener 4 digitos\n",
        "    x1=x**2#se eleva al cuadrado\n",
        "    num1=str(x1)\n",
        "    numero=list(num1)\n",
        "\n",
        "    if len(numero)==8:#el nuevo numero debe tener 8 digitos\n",
        "      xlist=numero[2:6]#extraer el numero medio\n",
        "      numfin=int(\"\".join(xlist))#pasar el numero a entero\n",
        "\n",
        "      #almacenar resultados en una lista, para la tabla\n",
        "      resultados.append([n,x,x1,numfin])\n",
        "      x=numfin#ahora el numero medio va a pasar a tomar el lugar de la semilla\n",
        "      n+=1#para que el bucle tenga fin\n",
        "\n",
        "    else:\n",
        "      xlist=numero[1:5]#En caso de que el numero tenga menos digitos de 8 se toma un intervalo diferente\n",
        "      numfin=int(\"\".join(xlist))#pasar a numero, ya que era cadena\n",
        "\n",
        "      #almacenar resultados en una lista, para la tabla\n",
        "      resultados.append([n,x,x1,numfin])\n",
        "\n",
        "      x=numfin#el numero toma el lugar de la semilla\n",
        "      n+=1#para que el bucle tenga fin\n",
        "\n",
        "  else:\n",
        "    print(\"el numero ingresado no tiene los digitos suficientes\")\n",
        "    n=m+1\n",
        "\n",
        "#para imprimir la tabla\n",
        "tabla=[\"N\",\"Xn\",\"Digito al cuadrado\",\"producto medio\"]\n",
        "print(tabulate.tabulate(resultados, headers=tabla,tablefmt=\"grid\"))"
      ]
    }
  ]
}