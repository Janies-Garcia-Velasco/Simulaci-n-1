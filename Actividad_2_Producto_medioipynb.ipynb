{
  "nbformat": 4,
  "nbformat_minor": 0,
  "metadata": {
    "colab": {
      "provenance": [],
      "authorship_tag": "ABX9TyOk8M1ubh06h0V8C5S1htMO",
      "include_colab_link": true
    },
    "kernelspec": {
      "name": "python3",
      "display_name": "Python 3"
    },
    "language_info": {
      "name": "python"
    }
  },
  "cells": [
    {
      "cell_type": "markdown",
      "metadata": {
        "id": "view-in-github",
        "colab_type": "text"
      },
      "source": [
        "<a href=\"https://colab.research.google.com/github/Janies-Garcia-Velasco/Simulaci-n-1/blob/main/Actividad_2_Producto_medioipynb.ipynb\" target=\"_parent\"><img src=\"https://colab.research.google.com/assets/colab-badge.svg\" alt=\"Open In Colab\"/></a>"
      ]
    },
    {
      "cell_type": "code",
      "execution_count": 137,
      "metadata": {
        "colab": {
          "base_uri": "https://localhost:8080/"
        },
        "id": "It8FF8vQwj-i",
        "outputId": "45359489-bad9-40fc-a8ef-b3b95ec4927d"
      },
      "outputs": [
        {
          "output_type": "stream",
          "name": "stdout",
          "text": [
            "escriba el primer numero entero para ser x1: 1524\n",
            "escriba el primer numero entero para ser x2: 1658\n",
            "x 1  * x 2 = 2526792\n",
            "X 3 = 5267\n",
            "x 2  * x 3 = 8732686\n",
            "X 4 = 7326\n",
            "x 3  * x 4 = 38586042\n",
            "X 5 = 5860\n",
            "x 4  * x 5 = 42930360\n",
            "X 6 = 9303\n",
            "x 5  * x 6 = 54515580\n",
            "X 7 = 5155\n",
            "x 6  * x 7 = 47956965\n",
            "X 8 = 9569\n",
            "x 7  * x 8 = 49328195\n",
            "X 9 = 3281\n",
            "x 8  * x 9 = 31395889\n",
            "X 10 = 3958\n"
          ]
        }
      ],
      "source": [
        "import sys\n",
        "x1=int(input(\"escriba el primer numero entero para ser x1: \"))\n",
        "x2=int(input(\"escriba el primer numero entero para ser x2: \"))\n",
        "a=len(str(x1))\n",
        "b=len(str(x2))\n",
        "n=2\n",
        "\n",
        "while n<10:\n",
        "  if a==b:\n",
        "    Xn=int(x1*x2)\n",
        "    print(\"x\",n-1,\" * x\",n,\"=\",Xn)\n",
        "    numXn=str(Xn)\n",
        "    numdig=len(numXn)\n",
        "    listXn=list(numXn)\n",
        "\n",
        "    while len(listXn) > a & b:\n",
        "      listXn.pop()\n",
        "\n",
        "      if len(listXn) > a & b:\n",
        "          listXn.pop(0)\n",
        "\n",
        "    xnuev=int(\"\".join(listXn))\n",
        "    print(\"X\",n+1,\"=\",xnuev)\n",
        "    n=n+1\n",
        "    x1=x2\n",
        "    x2=xnuev\n",
        "  else:\n",
        "    print(\"la cantidad de digitos de cada numero es diferente, por lo que no se podria utilizar este metodo\")\n",
        "    n=10\n"
      ]
    }
  ]
}