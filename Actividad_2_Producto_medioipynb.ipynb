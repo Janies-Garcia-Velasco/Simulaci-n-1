{
  "nbformat": 4,
  "nbformat_minor": 0,
  "metadata": {
    "colab": {
      "provenance": [],
      "authorship_tag": "ABX9TyNxG1M9HqzCH/x9c0CZcSaf",
      "include_colab_link": true
    },
    "kernelspec": {
      "name": "python3",
      "display_name": "Python 3"
    },
    "language_info": {
      "name": "python"
    }
  },
  "cells": [
    {
      "cell_type": "markdown",
      "metadata": {
        "id": "view-in-github",
        "colab_type": "text"
      },
      "source": [
        "<a href=\"https://colab.research.google.com/github/Janies-Garcia-Velasco/Simulaci-n-1/blob/main/Actividad_2_Producto_medioipynb.ipynb\" target=\"_parent\"><img src=\"https://colab.research.google.com/assets/colab-badge.svg\" alt=\"Open In Colab\"/></a>"
      ]
    },
    {
      "cell_type": "code",
      "source": [
        "!pip install tabulate"
      ],
      "metadata": {
        "id": "BkwPOWxxnpAb"
      },
      "execution_count": null,
      "outputs": []
    },
    {
      "cell_type": "code",
      "execution_count": 7,
      "metadata": {
        "colab": {
          "base_uri": "https://localhost:8080/"
        },
        "id": "It8FF8vQwj-i",
        "outputId": "d6e29902-be78-4cb4-de6f-5d56c98779f4"
      },
      "outputs": [
        {
          "output_type": "stream",
          "name": "stdout",
          "text": [
            "escriba el primer numero entero para ser x1: 123\n",
            "escriba el primer numero entero para ser x2: 456\n",
            "numero de iteraciones que deseas: 20\n",
            "+-----+--------+------+--------------+\n",
            "|   N |   Xn-1 |   Xn |   (Xn)(Xn-1) |\n",
            "+=====+========+======+==============+\n",
            "|   1 |    123 |  456 |        56088 |\n",
            "+-----+--------+------+--------------+\n",
            "|   2 |    456 |  608 |       277248 |\n",
            "+-----+--------+------+--------------+\n",
            "|   3 |    608 |  772 |       469376 |\n",
            "+-----+--------+------+--------------+\n",
            "|   4 |    772 |  693 |       534996 |\n",
            "+-----+--------+------+--------------+\n",
            "|   5 |    693 |  349 |       241857 |\n",
            "+-----+--------+------+--------------+\n",
            "|   6 |    349 |  418 |       145882 |\n",
            "+-----+--------+------+--------------+\n",
            "|   7 |    418 |  458 |       191444 |\n",
            "+-----+--------+------+--------------+\n",
            "|   8 |    458 |  914 |       418612 |\n",
            "+-----+--------+------+--------------+\n",
            "|   9 |    914 |  186 |       170004 |\n",
            "+-----+--------+------+--------------+\n",
            "|  10 |    186 |  700 |       130200 |\n",
            "+-----+--------+------+--------------+\n",
            "|  11 |    700 |  302 |       211400 |\n",
            "+-----+--------+------+--------------+\n",
            "|  12 |    302 |  114 |        34428 |\n",
            "+-----+--------+------+--------------+\n",
            "|  13 |    114 |  442 |        50388 |\n",
            "+-----+--------+------+--------------+\n",
            "|  14 |    442 |   38 |        16796 |\n",
            "+-----+--------+------+--------------+\n",
            "|  15 |     38 |  679 |        25802 |\n",
            "+-----+--------+------+--------------+\n",
            "|  16 |    679 |  580 |       393820 |\n",
            "+-----+--------+------+--------------+\n",
            "|  17 |    580 |  938 |       544040 |\n",
            "+-----+--------+------+--------------+\n",
            "|  18 |    938 |  440 |       412720 |\n",
            "+-----+--------+------+--------------+\n",
            "|  19 |    440 |  127 |        55880 |\n",
            "+-----+--------+------+--------------+\n",
            "|  20 |    127 |  588 |        74676 |\n",
            "+-----+--------+------+--------------+\n"
          ]
        }
      ],
      "source": [
        "import sys\n",
        "import tabulate\n",
        "\n",
        "x1=int(input(\"escriba el primer numero entero para ser x1: \"))\n",
        "x2=int(input(\"escriba el primer numero entero para ser x2: \"))\n",
        "n=int(input(\"numero de iteraciones que deseas: \"))\n",
        "a=len(str(x1))\n",
        "b=len(str(x2))\n",
        "m=1\n",
        "resultados=[]\n",
        "\n",
        "while m<n+1:\n",
        "  if a==b:\n",
        "    Xn=int(x1*x2)\n",
        "    numXn=str(Xn)\n",
        "    numdig=len(numXn)\n",
        "    listXn=list(numXn)\n",
        "\n",
        "    while len(listXn) > a & b:\n",
        "      listXn.pop()\n",
        "\n",
        "      if len(listXn) > a & b:\n",
        "          listXn.pop(0)\n",
        "\n",
        "    xnuev=int(\"\".join(listXn))\n",
        "\n",
        "    #almacenar resultados en una lista\n",
        "    resultados.append([m,x1,x2,Xn])\n",
        "\n",
        "    m+=1\n",
        "    x1=x2\n",
        "    x2=xnuev\n",
        "\n",
        "  else:\n",
        "    print(\"la cantidad de digitos de cada numero es diferente, por lo que no se podria utilizar este metodo\")\n",
        "    n=m\n",
        "\n",
        "#para imprimir tabla\n",
        "tabla=[\"N\",\"Xn-1\",\"Xn\",\"(Xn)(Xn-1)\"]\n",
        "print(tabulate.tabulate(resultados, headers=tabla,tablefmt=\"grid\"))"
      ]
    }
  ]
}