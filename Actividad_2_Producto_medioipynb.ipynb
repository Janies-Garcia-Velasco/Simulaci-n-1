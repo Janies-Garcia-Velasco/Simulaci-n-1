{
  "nbformat": 4,
  "nbformat_minor": 0,
  "metadata": {
    "colab": {
      "provenance": [],
      "authorship_tag": "ABX9TyMsMnMog4qPj+iCvtJ9LDMs",
      "include_colab_link": true
    },
    "kernelspec": {
      "name": "python3",
      "display_name": "Python 3"
    },
    "language_info": {
      "name": "python"
    }
  },
  "cells": [
    {
      "cell_type": "markdown",
      "metadata": {
        "id": "view-in-github",
        "colab_type": "text"
      },
      "source": [
        "<a href=\"https://colab.research.google.com/github/Janies-Garcia-Velasco/Simulaci-n-1/blob/main/Actividad_2_Producto_medioipynb.ipynb\" target=\"_parent\"><img src=\"https://colab.research.google.com/assets/colab-badge.svg\" alt=\"Open In Colab\"/></a>"
      ]
    },
    {
      "cell_type": "code",
      "source": [
        "!pip install tabulate"
      ],
      "metadata": {
        "id": "BkwPOWxxnpAb"
      },
      "execution_count": null,
      "outputs": []
    },
    {
      "cell_type": "code",
      "execution_count": null,
      "metadata": {
        "colab": {
          "base_uri": "https://localhost:8080/"
        },
        "id": "It8FF8vQwj-i",
        "outputId": "998c8368-fed2-4942-dd4b-6f75c212cca2"
      },
      "outputs": [
        {
          "output_type": "stream",
          "name": "stdout",
          "text": [
            "escriba el primer numero entero para ser x1: 123\n",
            "escriba el primer numero entero para ser x2: 456\n",
            "numero de iteraciones que deseas: 20\n",
            "+-----+--------+------+--------------+\n",
            "|   N |   Xn-1 |   Xn |   (Xn)(Xn-1) |\n",
            "+=====+========+======+==============+\n",
            "|   1 |    123 |  456 |        56088 |\n",
            "+-----+--------+------+--------------+\n",
            "|   2 |    456 |  608 |       277248 |\n",
            "+-----+--------+------+--------------+\n",
            "|   3 |    608 |  772 |       469376 |\n",
            "+-----+--------+------+--------------+\n",
            "|   4 |    772 |  693 |       534996 |\n",
            "+-----+--------+------+--------------+\n",
            "|   5 |    693 |  349 |       241857 |\n",
            "+-----+--------+------+--------------+\n",
            "|   6 |    349 |  418 |       145882 |\n",
            "+-----+--------+------+--------------+\n",
            "|   7 |    418 |  458 |       191444 |\n",
            "+-----+--------+------+--------------+\n",
            "|   8 |    458 |  914 |       418612 |\n",
            "+-----+--------+------+--------------+\n",
            "|   9 |    914 |  186 |       170004 |\n",
            "+-----+--------+------+--------------+\n",
            "|  10 |    186 |  700 |       130200 |\n",
            "+-----+--------+------+--------------+\n",
            "|  11 |    700 |  302 |       211400 |\n",
            "+-----+--------+------+--------------+\n",
            "|  12 |    302 |  114 |        34428 |\n",
            "+-----+--------+------+--------------+\n",
            "|  13 |    114 |  442 |        50388 |\n",
            "+-----+--------+------+--------------+\n",
            "|  14 |    442 |   38 |        16796 |\n",
            "+-----+--------+------+--------------+\n",
            "|  15 |     38 |  679 |        25802 |\n",
            "+-----+--------+------+--------------+\n",
            "|  16 |    679 |  580 |       393820 |\n",
            "+-----+--------+------+--------------+\n",
            "|  17 |    580 |  938 |       544040 |\n",
            "+-----+--------+------+--------------+\n",
            "|  18 |    938 |  440 |       412720 |\n",
            "+-----+--------+------+--------------+\n",
            "|  19 |    440 |  127 |        55880 |\n",
            "+-----+--------+------+--------------+\n",
            "|  20 |    127 |  588 |        74676 |\n",
            "+-----+--------+------+--------------+\n"
          ]
        }
      ],
      "source": [
        "import sys\n",
        "import tabulate\n",
        "#Pedimos las dos semillas\n",
        "x1=int(input(\"escriba el primer numero entero para ser x1: \"))\n",
        "x2=int(input(\"escriba el primer numero entero para ser x2: \"))\n",
        "n=int(input(\"numero de iteraciones que deseas: \"))#pedimos las iteciones\n",
        "#leemos de cuantos digitos son los numeros\n",
        "a=len(str(x1))\n",
        "b=len(str(x2))\n",
        "m=1\n",
        "resultados=[]#creamos lista\n",
        "\n",
        "while m<n+1:#creamos bucle para las iteraciones\n",
        "  if a==b:#verificamos que los numeros sean de la misma cantidad de digitos\n",
        "    Xn=int(x1*x2)#producto de las semillas\n",
        "    numXn=str(Xn)#lo convertimos en cadena\n",
        "    numdig=len(numXn)#cantidad de digitos que posee\n",
        "    listXn=list(numXn)#se convierte a lista\n",
        "\n",
        "    while len(listXn) > a & b:#bucle mientra el tamaño de la lista sea mayo e el tamaño de a y b\n",
        "      listXn.pop()#quitamos el ultimo elemento de la lista\n",
        "\n",
        "      if len(listXn) > a & b:#si sigue siendo mas grande\n",
        "          listXn.pop(0)#se quita el primer elemento de ls lista\n",
        "\n",
        "    xnuev=int(\"\".join(listXn))#la lista se convierte a numero\n",
        "\n",
        "    #almacenar resultados en una lista\n",
        "    resultados.append([m,x1,x2,Xn])\n",
        "\n",
        "    m+=1#añadimos para crear el bucle y que tenga un fin\n",
        "    x1=x2#ahora x1 tomara el valor de la segunda semilla\n",
        "    x2=xnuev#x2 toma el valor que se obtuvo en el procedimiento de antes\n",
        "\n",
        "  else:\n",
        "    print(\"la cantidad de digitos de cada numero es diferente, por lo que no se podria utilizar este metodo\")#en caso de que los numeros semilla no tengan la misma cantidad de digitos, esto se escrubura en consola\n",
        "    n=m#por tanto el programa termina cuando m=n\n",
        "\n",
        "#para imprimir tabla\n",
        "tabla=[\"N\",\"Xn-1\",\"Xn\",\"(Xn)(Xn-1)\"]#encabezado de tabla\n",
        "print(tabulate.tabulate(resultados, headers=tabla,tablefmt=\"grid\"))#metiendo resultados a la tabla"
      ]
    }
  ]
}