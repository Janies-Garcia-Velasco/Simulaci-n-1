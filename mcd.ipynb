{
  "nbformat": 4,
  "nbformat_minor": 0,
  "metadata": {
    "colab": {
      "provenance": [],
      "authorship_tag": "ABX9TyO/AngQPA4r4CepYqkHM72C",
      "include_colab_link": true
    },
    "kernelspec": {
      "name": "python3",
      "display_name": "Python 3"
    },
    "language_info": {
      "name": "python"
    }
  },
  "cells": [
    {
      "cell_type": "markdown",
      "metadata": {
        "id": "view-in-github",
        "colab_type": "text"
      },
      "source": [
        "<a href=\"https://colab.research.google.com/github/Janies-Garcia-Velasco/Simulaci-n-1/blob/main/mcd.ipynb\" target=\"_parent\"><img src=\"https://colab.research.google.com/assets/colab-badge.svg\" alt=\"Open In Colab\"/></a>"
      ]
    },
    {
      "cell_type": "code",
      "source": [
        "\n",
        "a=int(input(\"dar un entero: \"))\n",
        "b=int(input(\"dar otro entero: \"))\n",
        "while b!=0:\n",
        "  r= a % b\n",
        "  a= b\n",
        "  b= r\n",
        "\n",
        "print(\"mcd: \", a)\n"
      ],
      "metadata": {
        "colab": {
          "base_uri": "https://localhost:8080/"
        },
        "id": "fBFvna-1wFA2",
        "outputId": "7dc9e3d8-a394-4ef1-afd4-113ac52c4aca"
      },
      "execution_count": 7,
      "outputs": [
        {
          "output_type": "stream",
          "name": "stdout",
          "text": [
            "dar un entero: 15\n",
            "dar otro entero: 21\n",
            "mcd:  3\n"
          ]
        }
      ]
    }
  ]
}