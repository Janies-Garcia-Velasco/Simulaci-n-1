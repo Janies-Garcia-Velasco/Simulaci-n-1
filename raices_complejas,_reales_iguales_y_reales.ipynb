{
  "nbformat": 4,
  "nbformat_minor": 0,
  "metadata": {
    "colab": {
      "provenance": [],
      "authorship_tag": "ABX9TyOou/KnQTozvakwbTDCUUIZ",
      "include_colab_link": true
    },
    "kernelspec": {
      "name": "python3",
      "display_name": "Python 3"
    },
    "language_info": {
      "name": "python"
    }
  },
  "cells": [
    {
      "cell_type": "markdown",
      "metadata": {
        "id": "view-in-github",
        "colab_type": "text"
      },
      "source": [
        "<a href=\"https://colab.research.google.com/github/Janies-Garcia-Velasco/Simulaci-n-1/blob/main/raices_complejas%2C_reales_iguales_y_reales.ipynb\" target=\"_parent\"><img src=\"https://colab.research.google.com/assets/colab-badge.svg\" alt=\"Open In Colab\"/></a>"
      ]
    },
    {
      "cell_type": "code",
      "execution_count": null,
      "metadata": {
        "colab": {
          "base_uri": "https://localhost:8080/"
        },
        "id": "-gNZhJ4tL_Iy",
        "outputId": "fdc48cbe-a372-42b4-cd50-fe91d2a2fa67"
      },
      "outputs": [
        {
          "output_type": "stream",
          "name": "stdout",
          "text": [
            "0.5839086690229529\n",
            "0.5790461902511017\n",
            "raices complejas\n"
          ]
        }
      ],
      "source": [
        "import random\n",
        "p=random.random()\n",
        "print(2*p)\n",
        "\n",
        "q=random.random()\n",
        "print(2*q)\n",
        "\n",
        "I=(p**2)-(4*q)\n",
        "\n",
        "if I>0:\n",
        "  print(\"raices reales\")\n",
        "elif I==0:\n",
        "  print(\"raices reales iguales\")\n",
        "else:\n",
        "  print(\"raices complejas\")\n",
        "\n"
      ]
    },
    {
      "cell_type": "code",
      "source": [
        "import random as rnd\n",
        "n=10\n",
        "\n",
        "favorable=0\n",
        "for i in range (n):\n",
        "  p=rnd.uniform(0,2)\n",
        "  q=rnd.uniform(0,2)\n",
        "  if (p**2)-(4*q) >=0:\n",
        "    favorable+=1\n",
        "prob=favorable/n\n",
        "print(prob)"
      ],
      "metadata": {
        "colab": {
          "base_uri": "https://localhost:8080/"
        },
        "id": "Qw4u-YEkWiRi",
        "outputId": "f0e576e7-ec4e-412d-de0a-13e967678c85"
      },
      "execution_count": null,
      "outputs": [
        {
          "output_type": "stream",
          "name": "stdout",
          "text": [
            "0.2\n"
          ]
        }
      ]
    }
  ]
}