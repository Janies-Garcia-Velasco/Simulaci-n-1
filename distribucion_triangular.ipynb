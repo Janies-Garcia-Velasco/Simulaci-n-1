{
  "nbformat": 4,
  "nbformat_minor": 0,
  "metadata": {
    "colab": {
      "provenance": [],
      "authorship_tag": "ABX9TyOcIy2vcDC3QuPZs4QCIw8x",
      "include_colab_link": true
    },
    "kernelspec": {
      "name": "python3",
      "display_name": "Python 3"
    },
    "language_info": {
      "name": "python"
    }
  },
  "cells": [
    {
      "cell_type": "markdown",
      "metadata": {
        "id": "view-in-github",
        "colab_type": "text"
      },
      "source": [
        "<a href=\"https://colab.research.google.com/github/Janies-Garcia-Velasco/Simulaci-n-1/blob/main/distribucion_triangular.ipynb\" target=\"_parent\"><img src=\"https://colab.research.google.com/assets/colab-badge.svg\" alt=\"Open In Colab\"/></a>"
      ]
    },
    {
      "cell_type": "code",
      "execution_count": null,
      "metadata": {
        "id": "98Ringq0jT_O",
        "colab": {
          "base_uri": "https://localhost:8080/"
        },
        "outputId": "0887b6d9-c030-4253-acb9-614be40f9788"
      },
      "outputs": [
        {
          "output_type": "stream",
          "name": "stdout",
          "text": [
            "0.2329047701202568\n",
            "0\n"
          ]
        }
      ],
      "source": [
        "import numpy as np\n",
        "import random\n",
        "a=2\n",
        "b=5\n",
        "c=3\n",
        "x= random.random() #siendo x el numero aleatorio que siga una distribucion trianguolar\n",
        "print(x)\n",
        "\n",
        "if x<=a:\n",
        "  ale=0\n",
        "  print(ale)\n",
        "elif a<x<=c:\n",
        "  ale=np.sqrt(x*(b-a)*(c-a))+a\n",
        "  print(ale)\n",
        "elif c<x<=b:\n",
        "  ale=b-np.sqrt()\n",
        "  print(ale)\n",
        "elif x>b:\n",
        "  ale=1\n",
        "  print(ale)\n",
        "\n"
      ]
    },
    {
      "cell_type": "code",
      "execution_count": null,
      "metadata": {
        "colab": {
          "base_uri": "https://localhost:8080/"
        },
        "id": "5maTrqqqN4Pz",
        "outputId": "8ef11b59-262e-49e5-e89f-f43b2a94a4e0"
      },
      "outputs": [
        {
          "output_type": "stream",
          "name": "stdout",
          "text": [
            "0.07994427744407329\n",
            "2.43431897946113\n"
          ]
        }
      ],
      "source": [
        "import numpy as np\n",
        "import random\n",
        "\n",
        "a=0\n",
        "c=3/4\n",
        "b=1\n",
        "x= random.random() #siendo x el numero aleatorio que siga una distribucion triangular\n",
        "print(x)\n",
        "\n",
        "if x<a:\n",
        "  ale=0\n",
        "  print(ale)\n",
        "elif a<x<=c:\n",
        "  ale=(5/4)+np.sqrt((25/16)-2*x)\n",
        "  print(ale)\n",
        "elif c<x<=b:\n",
        "  ale=1+4*x\n",
        "  print(ale)\n",
        "elif x>b:\n",
        "  ale=1\n",
        "  print(ale)\n",
        "\n"
      ]
    }
  ]
}