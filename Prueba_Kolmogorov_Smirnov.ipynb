{
  "nbformat": 4,
  "nbformat_minor": 0,
  "metadata": {
    "colab": {
      "provenance": [],
      "authorship_tag": "ABX9TyPEetJM1rZ/GeM9lIj4fIIx",
      "include_colab_link": true
    },
    "kernelspec": {
      "name": "python3",
      "display_name": "Python 3"
    },
    "language_info": {
      "name": "python"
    }
  },
  "cells": [
    {
      "cell_type": "markdown",
      "metadata": {
        "id": "view-in-github",
        "colab_type": "text"
      },
      "source": [
        "<a href=\"https://colab.research.google.com/github/Janies-Garcia-Velasco/Simulaci-n-1/blob/main/Prueba_Kolmogorov_Smirnov.ipynb\" target=\"_parent\"><img src=\"https://colab.research.google.com/assets/colab-badge.svg\" alt=\"Open In Colab\"/></a>"
      ]
    },
    {
      "cell_type": "markdown",
      "source": [
        "Paso 1: ordenar de menos a mayor los numeros aleatorios, Xi"
      ],
      "metadata": {
        "id": "FHnupvhNSQIH"
      }
    },
    {
      "cell_type": "code",
      "source": [],
      "metadata": {
        "id": "9Sg4RTVTYhgq"
      },
      "execution_count": null,
      "outputs": []
    },
    {
      "cell_type": "code",
      "source": [
        "import numpy as np\n",
        "import openpyxl\n",
        "from tabulate import tabulate\n",
        "import tabulate\n",
        "\n",
        "#creacion de la lista vacia\n",
        "lista=[]\n",
        "\n",
        "#permiso para entrar al archivo excel\n",
        "num_muestra=openpyxl.load_workbook(\"muestra_ejericio1.xlsx\")\n",
        "muestra=num_muestra.active\n",
        "\n",
        "#ir columna por fila extrayendo los datos\n",
        "for row in range(0,muestra.max_row):\n",
        "  #ir por fila extrayendo datos\n",
        "  for col in muestra.iter_cols(1, muestra.max_column):\n",
        "\n",
        "    #guardando los datos en el x\n",
        "    x=col[row].value\n",
        "\n",
        "    #cambiar las comas por puntos para volve un decimal posible de calcular\n",
        "    if isinstance(x,str):\n",
        "      x=x.replace(\",\",\".\")\n",
        "    try:\n",
        "      x=float(x)\n",
        "    except ValueError:\n",
        "      continue\n",
        "\n",
        "\n",
        "    #metiendo datos a la lista\n",
        "    lista.append(x)\n",
        "    #lista ordenada\n",
        "    lista.sort()\n",
        "    #numero de datos en la lista\n",
        "    n=len(lista)\n",
        "    #numero mayor de la lista\n",
        "    i=max(lista)\n",
        "    #calculando d+\n",
        "    while 1<x<n:\n",
        "      dmax= abs((x/n)-i)\n",
        "\n",
        "\n",
        "print(n)\n",
        "print(dmax)"
      ],
      "metadata": {
        "colab": {
          "base_uri": "https://localhost:8080/"
        },
        "id": "knKDVuzeSdPv",
        "outputId": "f60da700-a3cb-49f6-8afb-9e512f5236a4"
      },
      "execution_count": 28,
      "outputs": [
        {
          "output_type": "stream",
          "name": "stdout",
          "text": [
            "50\n",
            "49.92460800320128\n"
          ]
        }
      ]
    }
  ]
}