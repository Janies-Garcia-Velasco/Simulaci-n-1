{
  "nbformat": 4,
  "nbformat_minor": 0,
  "metadata": {
    "colab": {
      "provenance": [],
      "authorship_tag": "ABX9TyOLOHg/PDsDfbetg1wMNnmC",
      "include_colab_link": true
    },
    "kernelspec": {
      "name": "python3",
      "display_name": "Python 3"
    },
    "language_info": {
      "name": "python"
    }
  },
  "cells": [
    {
      "cell_type": "markdown",
      "metadata": {
        "id": "view-in-github",
        "colab_type": "text"
      },
      "source": [
        "<a href=\"https://colab.research.google.com/github/Janies-Garcia-Velasco/Simulaci-n-1/blob/main/Otras_aplicaciones.ipynb\" target=\"_parent\"><img src=\"https://colab.research.google.com/assets/colab-badge.svg\" alt=\"Open In Colab\"/></a>"
      ]
    },
    {
      "cell_type": "markdown",
      "source": [
        "Una compañia tiene un problema de manntenimienot con cierto equipo, que contiene 4 componentes electronicos identicos que con la causa del mismo, el cual consiste en que los componentes fallan frecuentemente, forzando a que le equipo se desconecte mientras se hace la reposicion. Lo que se ha venido haciendo es reemplazar los componentes solamente cuando se descomponen. Sin embargo, existe una nueva proposicion de hacer el reemplazo de los cuatro componentes cuando falle cualesquiera de ellos, con objeto de reducir la frecuencia de desconexion del equipo.\n",
        "\n",
        "El tiempo de vida de un componentes esta normalmente distribuido con media de de 600 horas y desviacion estandar de 100 horas. Tambien se sabe que es necesario desconectar el equipo 1 hora si se reemplaza un componente y 2 horas si se reemplazan los 4. Un componente nuevo cuesta 200 pesos y se incurrre en un costo de 100 pesos por hora cada vez que se desconecta el equipo.\n",
        "\n",
        "Determine cual de las dos politicas anteriores es mas economica (simule la operacion del equipo durante 20,000 horas)"
      ],
      "metadata": {
        "id": "WkpkArtl4vHO"
      }
    },
    {
      "cell_type": "code",
      "source": [
        "import numpy as np\n",
        "\n",
        "# Parámetros de la simulación\n",
        "tiempo_simulacion = 20000  # horas\n",
        "media_vida_util = 600  # horas\n",
        "desviacion_estandar_vida_util = 100  # horas\n",
        "costo_componente = 200  # dólares\n",
        "costo_hora_desconexion = 100  # dólares\n",
        "tiempo_desconexion_individual = 1  # horas\n",
        "tiempo_desconexion_conjunto = 2  # horas\n",
        "num_componentes = 4\n",
        "\n",
        "# Inicializar costos totales\n",
        "costo_total_individual = 0\n",
        "costo_total_conjunto = 0\n",
        "\n",
        "# Simulación de reemplazo individual\n",
        "tiempo_actual = 0\n",
        "while tiempo_actual < tiempo_simulacion:\n",
        "    tiempos_fallo = np.random.normal(media_vida_util, desviacion_estandar_vida_util, num_componentes)\n",
        "    proximo_fallo = min(tiempos_fallo)\n",
        "\n",
        "    if tiempo_actual + proximo_fallo < tiempo_simulacion:\n",
        "        costo_total_individual += costo_componente + (costo_hora_desconexion * tiempo_desconexion_individual)\n",
        "        tiempo_actual += proximo_fallo\n",
        "    else:\n",
        "        break\n",
        "\n",
        "# Simulación de reemplazo conjunto\n",
        "tiempo_actual = 0\n",
        "while tiempo_actual < tiempo_simulacion:\n",
        "    tiempos_fallo = np.random.normal(media_vida_util, desviacion_estandar_vida_util, num_componentes)\n",
        "    proximo_fallo = min(tiempos_fallo)\n",
        "\n",
        "    if tiempo_actual + proximo_fallo < tiempo_simulacion:\n",
        "        costo_total_conjunto += (costo_componente * num_componentes) + (costo_hora_desconexion * tiempo_desconexion_conjunto)\n",
        "        tiempo_actual += proximo_fallo\n",
        "    else:\n",
        "        break\n",
        "\n",
        "print(\"Reemplazo individual: \", costo_total_individual,\", Reemplazo conjunto: \", costo_total_conjunto)\n"
      ],
      "metadata": {
        "colab": {
          "base_uri": "https://localhost:8080/"
        },
        "id": "tsUejLT94rHU",
        "outputId": "5a6c66b1-95b4-435e-8234-309c30aa09d4"
      },
      "execution_count": 7,
      "outputs": [
        {
          "output_type": "stream",
          "name": "stdout",
          "text": [
            "Reemplazo individual:  12600 , Reemplazo conjunto:  42000\n"
          ]
        }
      ]
    }
  ]
}